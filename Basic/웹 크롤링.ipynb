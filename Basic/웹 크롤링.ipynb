{
 "cells": [
  {
   "cell_type": "code",
   "execution_count": 3,
   "metadata": {},
   "outputs": [],
   "source": [
    "import os, re, usecsv\n",
    "import requests\n",
    "import urllib.request as ur\n",
    "from bs4 import BeautifulSoup as bs"
   ]
  },
  {
   "cell_type": "code",
   "execution_count": 4,
   "metadata": {},
   "outputs": [
    {
     "data": {
      "text/plain": [
       "<http.client.HTTPResponse at 0x2875eebf970>"
      ]
     },
     "execution_count": 4,
     "metadata": {},
     "output_type": "execute_result"
    }
   ],
   "source": [
    "url = 'https://quotes.toscrape.com/'\n",
    "html = ur.urlopen(url)\n",
    "html"
   ]
  },
  {
   "cell_type": "code",
   "execution_count": 5,
   "metadata": {},
   "outputs": [
    {
     "data": {
      "text/plain": [
       "b'<!DOCTYPE html>\\n<html lang=\"en\">\\n<head>\\n\\t<meta charset=\"UTF-8\">\\n\\t<title>Quotes to Scrape</title>\\n   '"
      ]
     },
     "execution_count": 5,
     "metadata": {},
     "output_type": "execute_result"
    }
   ],
   "source": [
    "html.read()[:100]"
   ]
  },
  {
   "attachments": {},
   "cell_type": "markdown",
   "metadata": {},
   "source": [
    "#### 파싱(parsing)\n",
    "- 웹 문서에서 원하는 패턴이나 순서로 자료를 추출해 가공하는 것"
   ]
  },
  {
   "cell_type": "code",
   "execution_count": 7,
   "metadata": {},
   "outputs": [],
   "source": [
    "html = ur.urlopen(url)\n",
    "soup = bs(html.read(), 'html.parser')"
   ]
  },
  {
   "cell_type": "code",
   "execution_count": 9,
   "metadata": {},
   "outputs": [],
   "source": [
    "soup = bs(ur.urlopen('https://quotes.toscrape.com/').read(),'html.parser')"
   ]
  },
  {
   "attachments": {},
   "cell_type": "markdown",
   "metadata": {},
   "source": [
    "find_all : 특정 태그로 둘러싸인 요소를 찾아내서 리스트 형태로 반환"
   ]
  },
  {
   "cell_type": "code",
   "execution_count": 11,
   "metadata": {},
   "outputs": [
    {
     "data": {
      "text/plain": [
       "<span class=\"text\" itemprop=\"text\">“The world as we have created it is a process of our thinking. It cannot be changed without changing our thinking.”</span>"
      ]
     },
     "execution_count": 11,
     "metadata": {},
     "output_type": "execute_result"
    }
   ],
   "source": [
    "quote = soup.find_all('span')\n",
    "quote[0]"
   ]
  },
  {
   "cell_type": "code",
   "execution_count": 12,
   "metadata": {},
   "outputs": [
    {
     "data": {
      "text/plain": [
       "'“The world as we have created it is a process of our thinking. It cannot be changed without changing our thinking.”'"
      ]
     },
     "execution_count": 12,
     "metadata": {},
     "output_type": "execute_result"
    }
   ],
   "source": [
    "quote[0].text"
   ]
  },
  {
   "cell_type": "code",
   "execution_count": 17,
   "metadata": {},
   "outputs": [],
   "source": [
    "for i in quote:\n",
    "    i.text "
   ]
  },
  {
   "cell_type": "code",
   "execution_count": 20,
   "metadata": {},
   "outputs": [
    {
     "data": {
      "text/plain": [
       "'\\n“The world as we have created it is a process of our thinking. It cannot be changed without changing our thinking.”\\nby Albert Einstein\\n(about)\\n\\n\\n            Tags:\\n            \\nchange\\ndeep-thoughts\\nthinking\\nworld\\n\\n'"
      ]
     },
     "execution_count": 20,
     "metadata": {},
     "output_type": "execute_result"
    }
   ],
   "source": [
    "soup.find_all('div', {\"class\" : \"quote\"})[0].text"
   ]
  },
  {
   "cell_type": "code",
   "execution_count": 21,
   "metadata": {},
   "outputs": [
    {
     "name": "stdout",
     "output_type": "stream",
     "text": [
      "\n",
      "“The world as we have created it is a process of our thinking. It cannot be changed without changing our thinking.”\n",
      "by Albert Einstein\n",
      "(about)\n",
      "\n",
      "\n",
      "            Tags:\n",
      "            \n",
      "change\n",
      "deep-thoughts\n",
      "thinking\n",
      "world\n",
      "\n",
      "\n"
     ]
    }
   ],
   "source": [
    "print(soup.find_all('div', {\"class\" : \"quote\"})[0].text)"
   ]
  },
  {
   "cell_type": "code",
   "execution_count": 22,
   "metadata": {},
   "outputs": [
    {
     "name": "stdout",
     "output_type": "stream",
     "text": [
      "\n",
      "“The world as we have created it is a process of our thinking. It cannot be changed without changing our thinking.”\n",
      "by Albert Einstein\n",
      "(about)\n",
      "\n",
      "\n",
      "            Tags:\n",
      "            \n",
      "change\n",
      "deep-thoughts\n",
      "thinking\n",
      "world\n",
      "\n",
      "\n",
      "\n",
      "“It is our choices, Harry, that show what we truly are, far more than our abilities.”\n",
      "by J.K. Rowling\n",
      "(about)\n",
      "\n",
      "\n",
      "            Tags:\n",
      "            \n",
      "abilities\n",
      "choices\n",
      "\n",
      "\n",
      "\n",
      "“There are only two ways to live your life. One is as though nothing is a miracle. The other is as though everything is a miracle.”\n",
      "by Albert Einstein\n",
      "(about)\n",
      "\n",
      "\n",
      "            Tags:\n",
      "            \n",
      "inspirational\n",
      "life\n",
      "live\n",
      "miracle\n",
      "miracles\n",
      "\n",
      "\n",
      "\n",
      "“The person, be it gentleman or lady, who has not pleasure in a good novel, must be intolerably stupid.”\n",
      "by Jane Austen\n",
      "(about)\n",
      "\n",
      "\n",
      "            Tags:\n",
      "            \n",
      "aliteracy\n",
      "books\n",
      "classic\n",
      "humor\n",
      "\n",
      "\n",
      "\n",
      "“Imperfection is beauty, madness is genius and it's better to be absolutely ridiculous than absolutely boring.”\n",
      "by Marilyn Monroe\n",
      "(about)\n",
      "\n",
      "\n",
      "            Tags:\n",
      "            \n",
      "be-yourself\n",
      "inspirational\n",
      "\n",
      "\n",
      "\n",
      "“Try not to become a man of success. Rather become a man of value.”\n",
      "by Albert Einstein\n",
      "(about)\n",
      "\n",
      "\n",
      "            Tags:\n",
      "            \n",
      "adulthood\n",
      "success\n",
      "value\n",
      "\n",
      "\n",
      "\n",
      "“It is better to be hated for what you are than to be loved for what you are not.”\n",
      "by André Gide\n",
      "(about)\n",
      "\n",
      "\n",
      "            Tags:\n",
      "            \n",
      "life\n",
      "love\n",
      "\n",
      "\n",
      "\n",
      "“I have not failed. I've just found 10,000 ways that won't work.”\n",
      "by Thomas A. Edison\n",
      "(about)\n",
      "\n",
      "\n",
      "            Tags:\n",
      "            \n",
      "edison\n",
      "failure\n",
      "inspirational\n",
      "paraphrased\n",
      "\n",
      "\n",
      "\n",
      "“A woman is like a tea bag; you never know how strong it is until it's in hot water.”\n",
      "by Eleanor Roosevelt\n",
      "(about)\n",
      "\n",
      "\n",
      "            Tags:\n",
      "            \n",
      "misattributed-eleanor-roosevelt\n",
      "\n",
      "\n",
      "\n",
      "“A day without sunshine is like, you know, night.”\n",
      "by Steve Martin\n",
      "(about)\n",
      "\n",
      "\n",
      "            Tags:\n",
      "            \n",
      "humor\n",
      "obvious\n",
      "simile\n",
      "\n",
      "\n"
     ]
    }
   ],
   "source": [
    "for i in soup.find_all('div', {\"class\":\"quote\"}):\n",
    "    print(i.text)"
   ]
  },
  {
   "cell_type": "code",
   "execution_count": null,
   "metadata": {},
   "outputs": [],
   "source": []
  }
 ],
 "metadata": {
  "kernelspec": {
   "display_name": "base",
   "language": "python",
   "name": "python3"
  },
  "language_info": {
   "codemirror_mode": {
    "name": "ipython",
    "version": 3
   },
   "file_extension": ".py",
   "mimetype": "text/x-python",
   "name": "python",
   "nbconvert_exporter": "python",
   "pygments_lexer": "ipython3",
   "version": "3.9.13"
  },
  "orig_nbformat": 4
 },
 "nbformat": 4,
 "nbformat_minor": 2
}
