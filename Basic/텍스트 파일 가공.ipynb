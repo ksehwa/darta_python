{
 "cells": [
  {
   "attachments": {},
   "cell_type": "markdown",
   "metadata": {},
   "source": [
    "### friends 대본 가공"
   ]
  },
  {
   "cell_type": "code",
   "execution_count": 2,
   "metadata": {},
   "outputs": [],
   "source": [
    "import os, re"
   ]
  },
  {
   "cell_type": "code",
   "execution_count": 3,
   "metadata": {},
   "outputs": [],
   "source": [
    "os.chdir(r'C:\\Users\\kke86\\OneDrive\\바탕 화면\\data_python\\data_python\\Basic')"
   ]
  },
  {
   "cell_type": "code",
   "execution_count": 4,
   "metadata": {},
   "outputs": [],
   "source": [
    "f = open('friends101.txt','r', encoding='utf-8')    # 'r'파일 내용을 읽을 때 사용 / 'w' : 파일에 내용을 새로 쓸 때 사용  / 'a' : 파일에 내용을 추가할 때 사용\n",
    "script101 = f.read()    # 파일 읽기"
   ]
  },
  {
   "cell_type": "code",
   "execution_count": 5,
   "metadata": {},
   "outputs": [
    {
     "name": "stdout",
     "output_type": "stream",
     "text": [
      "The One Where Monica Gets a New Roommate (The Pilot-The Uncut Version)\n",
      "Written by: Marta Kauffman & \n"
     ]
    }
   ],
   "source": [
    "print(script101[:100])"
   ]
  },
  {
   "attachments": {},
   "cell_type": "markdown",
   "metadata": {},
   "source": [
    "#### 1) 특정 등장인물의 대사만 모으기"
   ]
  },
  {
   "cell_type": "code",
   "execution_count": 6,
   "metadata": {},
   "outputs": [],
   "source": [
    "Line = re.findall(r'Monica:.+', script101)   \n",
    "# 'Monica:' 다음 아무 문자나 반복되는(.+) 패턴을 script101에서 찾아 리스트로 반환"
   ]
  },
  {
   "cell_type": "code",
   "execution_count": 7,
   "metadata": {},
   "outputs": [
    {
     "name": "stdout",
     "output_type": "stream",
     "text": [
      "[\"Monica: There's nothing to tell! He's just some guy I work with!\", \"Monica: Okay, everybody relax. This is not even a date. It's just two people going out to dinner and- not having sex.\", \"Monica: And they weren't looking at you before?!\"]\n"
     ]
    }
   ],
   "source": [
    "print(Line[:3])"
   ]
  },
  {
   "cell_type": "code",
   "execution_count": 8,
   "metadata": {},
   "outputs": [
    {
     "name": "stdout",
     "output_type": "stream",
     "text": [
      "Monica: There's nothing to tell! He's just some guy I work with!\n",
      "Monica: Okay, everybody relax. This is not even a date. It's just two people going out to dinner and- not having sex.\n",
      "Monica: And they weren't looking at you before?!\n"
     ]
    }
   ],
   "source": [
    "for item in Line[:3]:\n",
    "    print(item)"
   ]
  },
  {
   "cell_type": "code",
   "execution_count": 9,
   "metadata": {},
   "outputs": [],
   "source": [
    "f.close()"
   ]
  },
  {
   "cell_type": "code",
   "execution_count": 10,
   "metadata": {},
   "outputs": [],
   "source": [
    "f = open('monica.txt', 'w', encoding = 'utf-8')"
   ]
  },
  {
   "cell_type": "code",
   "execution_count": 11,
   "metadata": {},
   "outputs": [],
   "source": [
    "# 모니카의 대사 택스트를 monica 문자열에 담기\n",
    "monica = ''\n",
    "for i in Line:\n",
    "    monica += i         #Line 리스트의 원소를 monica 문자열에 추가"
   ]
  },
  {
   "cell_type": "code",
   "execution_count": 12,
   "metadata": {},
   "outputs": [
    {
     "data": {
      "text/plain": [
       "4542"
      ]
     },
     "execution_count": 12,
     "metadata": {},
     "output_type": "execute_result"
    }
   ],
   "source": [
    "f.write(monica)"
   ]
  },
  {
   "cell_type": "code",
   "execution_count": 13,
   "metadata": {},
   "outputs": [],
   "source": [
    "f.close()"
   ]
  },
  {
   "cell_type": "code",
   "execution_count": 14,
   "metadata": {},
   "outputs": [],
   "source": [
    "# 대사마다 줄 바꿔서 저장\n",
    "monica = ''                  # monica 객체를 다시 선언, 다른 이름도 상관없음\n",
    "for i in Line:                  \n",
    "    monica += i + '\\n'       # monica에 저장하는 모든 i 값에 '\\n'을 더해 monica에 저장"
   ]
  },
  {
   "cell_type": "code",
   "execution_count": 15,
   "metadata": {},
   "outputs": [
    {
     "data": {
      "text/plain": [
       "\"Monica: There's nothing to tell! He's just some guy I work with!\\nMonica: Okay, everybody relax. This\""
      ]
     },
     "execution_count": 15,
     "metadata": {},
     "output_type": "execute_result"
    }
   ],
   "source": [
    "monica[:100]"
   ]
  },
  {
   "cell_type": "code",
   "execution_count": 16,
   "metadata": {},
   "outputs": [
    {
     "data": {
      "text/plain": [
       "4615"
      ]
     },
     "execution_count": 16,
     "metadata": {},
     "output_type": "execute_result"
    }
   ],
   "source": [
    "f = open('monica.txt', 'w', encoding='utf-8')\n",
    "f.write(monica)"
   ]
  },
  {
   "cell_type": "code",
   "execution_count": 17,
   "metadata": {},
   "outputs": [],
   "source": [
    "f.close()"
   ]
  },
  {
   "attachments": {},
   "cell_type": "markdown",
   "metadata": {},
   "source": [
    "### 2) 등장인물 리스트 만들기\n",
    "- re.findall로 검색 조건에 맞는 문자열을 찾아 객체에 리스트 형태로 저장\n",
    "- set으로 중복을 없앤 다음 다시 리스트로 저장\n",
    "- for문과 문자열 슬라이싱을 활용해 리스트를 원소마다 마지막 문자(:)를 뺀 나머지를 다시 리스트에 저장"
   ]
  },
  {
   "cell_type": "code",
   "execution_count": null,
   "metadata": {},
   "outputs": [],
   "source": [
    "# 1. 등장인물 이름모으기\n",
    "char = re.compile(r'[A-Z][a-z]+:')\n",
    "re.findall(char, script101)"
   ]
  },
  {
   "cell_type": "code",
   "execution_count": 19,
   "metadata": {},
   "outputs": [
    {
     "data": {
      "text/plain": [
       "{1, 2, 3, 4, 5}"
      ]
     },
     "execution_count": 19,
     "metadata": {},
     "output_type": "execute_result"
    }
   ],
   "source": [
    "# 2. set 키워드로 중복된 원소 지우기\n",
    "a = [1,2,3,4,5,2,2,]\n",
    "set(a)"
   ]
  },
  {
   "cell_type": "code",
   "execution_count": 20,
   "metadata": {},
   "outputs": [
    {
     "data": {
      "text/plain": [
       "{'All:',\n",
       " 'Chandler:',\n",
       " 'Customer:',\n",
       " 'Frannie:',\n",
       " 'Joey:',\n",
       " 'Monica:',\n",
       " 'Note:',\n",
       " 'Paul:',\n",
       " 'Phoebe:',\n",
       " 'Rachel:',\n",
       " 'Ross:',\n",
       " 'Scene:',\n",
       " 'Waitress:'}"
      ]
     },
     "execution_count": 20,
     "metadata": {},
     "output_type": "execute_result"
    }
   ],
   "source": [
    "set(re.findall(char, script101))"
   ]
  },
  {
   "cell_type": "code",
   "execution_count": 21,
   "metadata": {},
   "outputs": [
    {
     "data": {
      "text/plain": [
       "['All',\n",
       " 'Joey',\n",
       " 'Monica',\n",
       " 'Frannie',\n",
       " 'Paul',\n",
       " 'Chandler',\n",
       " 'Customer',\n",
       " 'Ross',\n",
       " 'Phoebe',\n",
       " 'Waitress',\n",
       " 'Note',\n",
       " 'Rachel',\n",
       " 'Scene']"
      ]
     },
     "execution_count": 21,
     "metadata": {},
     "output_type": "execute_result"
    }
   ],
   "source": [
    "# 3. 슬라이싱으로 특정 위치의 문자 지우기 \n",
    "y = set(re.findall(char, script101))     # 등장인물 리스트를 집합으로 바꿔 y 객체에 저장\n",
    "z = list(y)                              # for 문에 사용하기 위해 다시 리스트로 변경\n",
    "character = []                           # 등장인물 리스트를 새로 담을 객체 character를 만듬\n",
    "for i in z:\n",
    "    character += [i[:-1]]                # 맨 뒤 콜론(:)을 지우고 character에 저장\n",
    "character "
   ]
  },
  {
   "cell_type": "code",
   "execution_count": 22,
   "metadata": {},
   "outputs": [
    {
     "data": {
      "text/plain": [
       "['All',\n",
       " 'Joey',\n",
       " 'Monica',\n",
       " 'Frannie',\n",
       " 'Paul',\n",
       " 'Chandler',\n",
       " 'Customer',\n",
       " 'Ross',\n",
       " 'Phoebe',\n",
       " 'Waitress',\n",
       " 'Note',\n",
       " 'Rachel',\n",
       " 'Scene']"
      ]
     },
     "execution_count": 22,
     "metadata": {},
     "output_type": "execute_result"
    }
   ],
   "source": [
    "# 4. 모든 명령을 한 줄로 작성하기\n",
    "character = [x[:-1] for x in list(set(re.findall(r'[A-Z][a-z]+:', script101)))]\n",
    "character"
   ]
  },
  {
   "attachments": {},
   "cell_type": "markdown",
   "metadata": {},
   "source": [
    "### 3) 지문만 출력하기"
   ]
  },
  {
   "cell_type": "code",
   "execution_count": 23,
   "metadata": {},
   "outputs": [
    {
     "data": {
      "text/plain": [
       "['(The Pilot-The Uncut Version)',\n",
       " '(Note: The previously unseen parts of this episode are shown in blue text.)',\n",
       " '(They all stare, bemused.)',\n",
       " '(mortified)',\n",
       " '(explaining to the others)',\n",
       " '(to Ross)']"
      ]
     },
     "execution_count": 23,
     "metadata": {},
     "output_type": "execute_result"
    }
   ],
   "source": [
    "re.findall(r'\\([A-Za-z].+?[a-z|\\.]\\)', script101)[:6]\n",
    "\n",
    "# r' :  문자열 앞에 붙여주기\n",
    "# \\( :  (를 메타 문자로 인식하지 않도록 \\를 붙여주기\n",
    "# [A-Za-z]   : 괄호 다음에는 공백 없이 영문자가 옴\n",
    "# .+ : 문자/숫자/빈칸 등이 자유롭게 반복\n",
    "# ?  : 탐욕(greedy) 제거\n",
    "# [a-z|\\.]  : 마지막 글자로 영어 소문자 또는 마침표가 옴\n",
    "# \\)'  : )로 괄호를 닫고 문자열 작성을 끝냄"
   ]
  },
  {
   "attachments": {},
   "cell_type": "markdown",
   "metadata": {},
   "source": [
    "### 4) 특정 단어의 예문만 모아 파일로 저장하기 "
   ]
  },
  {
   "cell_type": "code",
   "execution_count": 24,
   "metadata": {},
   "outputs": [
    {
     "data": {
      "text/plain": [
       "'The One Where Monica Gets a New Roommate (The Pilot-The Uncut Version)\\nWritten by: Marta Kauffman & '"
      ]
     },
     "execution_count": 24,
     "metadata": {},
     "output_type": "execute_result"
    }
   ],
   "source": [
    "import os,re\n",
    "os.chdir(r'C:\\Users\\kke86\\OneDrive\\바탕 화면\\data_python\\data_python\\Basic')\n",
    "f = open('friends101.txt','r')\n",
    "f.read(100)"
   ]
  },
  {
   "cell_type": "code",
   "execution_count": 25,
   "metadata": {},
   "outputs": [
    {
     "data": {
      "text/plain": [
       "0"
      ]
     },
     "execution_count": 25,
     "metadata": {},
     "output_type": "execute_result"
    }
   ],
   "source": [
    "f.seek(0)     #읽은 다음에는 커서를 맨 앞으로 이동"
   ]
  },
  {
   "cell_type": "code",
   "execution_count": 26,
   "metadata": {},
   "outputs": [
    {
     "data": {
      "text/plain": [
       "['The One Where Monica Gets a New Roommate (The Pilot-The Uncut Version)\\n',\n",
       " 'Written by: Marta Kauffman & David Crane\\n',\n",
       " 'Transcribed by: guineapig\\n']"
      ]
     },
     "execution_count": 26,
     "metadata": {},
     "output_type": "execute_result"
    }
   ],
   "source": [
    "sentences = f.readlines()    # 객체 f 안의 모든 문장을 원소로 하는 리스트를 만듬  \n",
    "sentences[:3]"
   ]
  },
  {
   "cell_type": "code",
   "execution_count": 27,
   "metadata": {},
   "outputs": [
    {
     "name": "stdout",
     "output_type": "stream",
     "text": [
      "Monica: There's nothing to tell! He's just some guy I work with!\n",
      "\n",
      "Joey: C'mon, you're going out with the guy! There's gotta be something wrong with him!\n",
      "\n",
      "Chandler: All right Joey, be nice.  So does he have a hump? A hump and a hairpiece?\n",
      "\n",
      "Phoebe: Wait, does he eat chalk?\n",
      "\n",
      "Phoebe: Just, 'cause, I don't want her to go through what I went through with Carl- oh!\n",
      "\n"
     ]
    }
   ],
   "source": [
    "for i in sentences[:20]:                # sentences 리스트에서 대사만 추출\n",
    "    if re.match(r'[A-Z][a-z]+:', i):    # match 문으로 문장 맨 앞에서 패턴 찾기\n",
    "        print(i)"
   ]
  },
  {
   "cell_type": "code",
   "execution_count": 28,
   "metadata": {},
   "outputs": [
    {
     "data": {
      "text/plain": [
       "[\"Monica: There's nothing to tell! He's just some guy I work with!\\n\",\n",
       " \"Joey: C'mon, you're going out with the guy! There's gotta be something wrong with him!\\n\",\n",
       " 'Chandler: All right Joey, be nice.  So does he have a hump? A hump and a hairpiece?\\n',\n",
       " 'Phoebe: Wait, does he eat chalk?\\n',\n",
       " \"Phoebe: Just, 'cause, I don't want her to go through what I went through with Carl- oh!\\n\",\n",
       " \"Monica: Okay, everybody relax. This is not even a date. It's just two people going out to dinner and- not having sex.\\n\",\n",
       " 'Chandler: Sounds like a date to me.\\n',\n",
       " \"Chandler: Alright, so I'm back in high school, I'm standing in the middle of the cafeteria, and I realize I am totally naked.\\n\",\n",
       " 'All: Oh, yeah. Had that dream.\\n',\n",
       " \"Chandler: Then I look down, and I realize there's a phone... there.\\n\"]"
      ]
     },
     "execution_count": 28,
     "metadata": {},
     "output_type": "execute_result"
    }
   ],
   "source": [
    "lines = [i for i in sentences if re.match(r'[A-Z][a-z]+:', i)]\n",
    "lines[:10]"
   ]
  },
  {
   "cell_type": "code",
   "execution_count": 29,
   "metadata": {},
   "outputs": [
    {
     "data": {
      "text/plain": [
       "[\"Rachel: Ooh, I was kinda hoping that wouldn't be an issue... [Scene: Monica's Apartment, everyone is there and watching a Spanish Soap on TV and are trying to figure out what is going on.]\\n\",\n",
       " \"Chandler: I would have to say that is an 'L'-shaped bracket.\\n\",\n",
       " 'Monica: Why?! Why? Why, why would anybody do something like that?\\n',\n",
       " 'Rachel: You would be too if you found John and David boots on sale, fifty percent off!\\n',\n",
       " 'Ross: Oh. Listen, do you think- and try not to let my intense vulnerability become any kind of a factor here- but do you think it would be okay if I asked you out? Sometime? Maybe?\\n',\n",
       " \"Joey: Oh, you wouldn't know a great butt if it came up and bit ya.\\n\"]"
      ]
     },
     "execution_count": 29,
     "metadata": {},
     "output_type": "execute_result"
    }
   ],
   "source": [
    "# if문 조건에 and re.search('would,i)를 추가해 would 객체에 저장\n",
    "would = [i for i in sentences if re.match(r'[A-Z][a-z]+:', i) and re.search('would',i)]\n",
    "would"
   ]
  },
  {
   "cell_type": "code",
   "execution_count": 30,
   "metadata": {},
   "outputs": [
    {
     "data": {
      "text/plain": [
       "[\"Rachel: Ooh, I was kinda hoping that wouldn't be an issue... [Scene: Monica's Apartment, everyone is there and watching a Spanish Soap on TV and are trying to figure out what is going on.]\\n\",\n",
       " \"Chandler: I would have to say that is an 'L'-shaped bracket.\\n\",\n",
       " 'Monica: Why?! Why? Why, why would anybody do something like that?\\n',\n",
       " 'Rachel: You would be too if you found John and David boots on sale, fifty percent off!\\n',\n",
       " 'Ross: Oh. Listen, do you think- and try not to let my intense vulnerability become any kind of a factor here- but do you think it would be okay if I asked you out? Sometime? Maybe?\\n',\n",
       " \"Joey: Oh, you wouldn't know a great butt if it came up and bit ya.\\n\"]"
      ]
     },
     "execution_count": 30,
     "metadata": {},
     "output_type": "execute_result"
    }
   ],
   "source": [
    "take = [i for i in sentences if re.match(r'[A-Z][a-z]+:', i) and re.search('would',i)]\n",
    "take"
   ]
  },
  {
   "cell_type": "code",
   "execution_count": 31,
   "metadata": {},
   "outputs": [],
   "source": [
    "newf = open('would.txt','w')      # 'would.txt 파일을 쓰기 모드(w)로 생성\n",
    "newf.writelines(would)            # would 리스트의 원소를 꺼내 한 줄 씩 쓰고 저장\n",
    "newf.close()"
   ]
  },
  {
   "attachments": {},
   "cell_type": "markdown",
   "metadata": {},
   "source": [
    "117-1번"
   ]
  },
  {
   "cell_type": "code",
   "execution_count": 32,
   "metadata": {},
   "outputs": [
    {
     "name": "stdout",
     "output_type": "stream",
     "text": [
      "apple\n",
      "arise\n",
      "above\n"
     ]
    }
   ],
   "source": [
    "words = ['apple','cat','brave','dream','arise','blow','coat','above']\n",
    "\n",
    "for i in words:\n",
    "    m = re.match(r'a\\D+', i)\n",
    "    if m:\n",
    "        print(m.group())"
   ]
  },
  {
   "attachments": {},
   "cell_type": "markdown",
   "metadata": {},
   "source": [
    "117-2번"
   ]
  },
  {
   "cell_type": "code",
   "execution_count": 34,
   "metadata": {},
   "outputs": [
    {
     "data": {
      "text/plain": [
       "['greatcing@naver.com', 'travel@daum.net', 'apple@gmail.com', 'life@abc.co.kr']"
      ]
     },
     "execution_count": 34,
     "metadata": {},
     "output_type": "execute_result"
    }
   ],
   "source": [
    "a = '제 이메일 주소는 greatcing@naver.com입니다. 오늘 저는 travel@daum.net 라는 주소로 메일을 보내려고 합니다. 저는 apple@gmail.com, life@abc.co.kr 라는 메일도 사용하고 있습니다.'\n",
    "b = re.findall(r'[a-z]+@[a-z.]+', a)\n",
    "b "
   ]
  },
  {
   "attachments": {},
   "cell_type": "markdown",
   "metadata": {},
   "source": [
    "118-4번"
   ]
  },
  {
   "cell_type": "code",
   "execution_count": 35,
   "metadata": {},
   "outputs": [
    {
     "data": {
      "text/plain": [
       "['I have a dog', ' I am not a girl', ' You are not alone', ' I am happy', '']"
      ]
     },
     "execution_count": 35,
     "metadata": {},
     "output_type": "execute_result"
    }
   ],
   "source": [
    "d = 'I have a dog. I am not a girl. You are not alone. I am happy.'\n",
    "re.split('\\.', d)"
   ]
  },
  {
   "cell_type": "code",
   "execution_count": null,
   "metadata": {},
   "outputs": [],
   "source": []
  }
 ],
 "metadata": {
  "kernelspec": {
   "display_name": "base",
   "language": "python",
   "name": "python3"
  },
  "language_info": {
   "codemirror_mode": {
    "name": "ipython",
    "version": 3
   },
   "file_extension": ".py",
   "mimetype": "text/x-python",
   "name": "python",
   "nbconvert_exporter": "python",
   "pygments_lexer": "ipython3",
   "version": "3.9.13"
  },
  "orig_nbformat": 4
 },
 "nbformat": 4,
 "nbformat_minor": 2
}
