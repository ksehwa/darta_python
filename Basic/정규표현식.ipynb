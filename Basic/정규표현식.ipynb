{
 "cells": [
  {
   "attachments": {},
   "cell_type": "markdown",
   "metadata": {},
   "source": [
    "## 정규표현식"
   ]
  },
  {
   "cell_type": "code",
   "execution_count": 6,
   "metadata": {},
   "outputs": [],
   "source": [
    "import re"
   ]
  },
  {
   "attachments": {},
   "cell_type": "markdown",
   "metadata": {},
   "source": [
    "#### match 메서드\n",
    "- 문자열 도입에서 패턴찾기"
   ]
  },
  {
   "cell_type": "code",
   "execution_count": 7,
   "metadata": {},
   "outputs": [
    {
     "data": {
      "text/plain": [
       "<re.Match object; span=(0, 4), match='life'>"
      ]
     },
     "execution_count": 7,
     "metadata": {},
     "output_type": "execute_result"
    }
   ],
   "source": [
    "pattern = r'life'     # 패턴을 객체에 저장, 패턴 앞에는 r을 붙임\n",
    "script = 'life'       # 패턴과 같은 스크립트를 다른 객체에 저장\n",
    "re.match(pattern, script)      # script에서 pattern 찾기"
   ]
  },
  {
   "cell_type": "code",
   "execution_count": 8,
   "metadata": {},
   "outputs": [
    {
     "data": {
      "text/plain": [
       "'life'"
      ]
     },
     "execution_count": 8,
     "metadata": {},
     "output_type": "execute_result"
    }
   ],
   "source": [
    "re.match(r'life','life').group()    "
   ]
  },
  {
   "cell_type": "code",
   "execution_count": 9,
   "metadata": {},
   "outputs": [
    {
     "ename": "AttributeError",
     "evalue": "'NoneType' object has no attribute 'group'",
     "output_type": "error",
     "traceback": [
      "\u001b[1;31m---------------------------------------------------------------------------\u001b[0m",
      "\u001b[1;31mAttributeError\u001b[0m                            Traceback (most recent call last)",
      "\u001b[1;32m~\\AppData\\Local\\Temp\\ipykernel_15524\\908744652.py\u001b[0m in \u001b[0;36m<module>\u001b[1;34m\u001b[0m\n\u001b[0;32m      1\u001b[0m \u001b[1;31m# 매칭 되지 않으면 오류\u001b[0m\u001b[1;33m\u001b[0m\u001b[1;33m\u001b[0m\u001b[0m\n\u001b[1;32m----> 2\u001b[1;33m \u001b[0mre\u001b[0m\u001b[1;33m.\u001b[0m\u001b[0mmatch\u001b[0m\u001b[1;33m(\u001b[0m\u001b[1;34mr'life'\u001b[0m\u001b[1;33m,\u001b[0m\u001b[1;34m'animal'\u001b[0m\u001b[1;33m)\u001b[0m\u001b[1;33m.\u001b[0m\u001b[0mgroup\u001b[0m\u001b[1;33m(\u001b[0m\u001b[1;33m)\u001b[0m\u001b[1;33m\u001b[0m\u001b[1;33m\u001b[0m\u001b[0m\n\u001b[0m",
      "\u001b[1;31mAttributeError\u001b[0m: 'NoneType' object has no attribute 'group'"
     ]
    }
   ],
   "source": [
    "# 매칭 되지 않으면 오류\n",
    "re.match(r'life','animal').group()    "
   ]
  },
  {
   "cell_type": "code",
   "execution_count": 10,
   "metadata": {},
   "outputs": [],
   "source": [
    "def refinder(pattern, script):\n",
    "    if re.match(pattern, script):     # script에서 패턴을 찾을 수 있다면\n",
    "        print('Match!')               # Match 출력\n",
    "    else:\n",
    "        print('Not a match!')"
   ]
  },
  {
   "cell_type": "code",
   "execution_count": 11,
   "metadata": {},
   "outputs": [
    {
     "name": "stdout",
     "output_type": "stream",
     "text": [
      "Match!\n"
     ]
    }
   ],
   "source": [
    "pattern = r'Life'               # 패턴으로 r'Life' 입력\n",
    "script = 'Life is so cool'      # 패턴을 찾을 문자열 입력\n",
    "refinder(pattern, script)       # 원고에서 패턴 찾기"
   ]
  },
  {
   "cell_type": "code",
   "execution_count": 12,
   "metadata": {},
   "outputs": [
    {
     "name": "stdout",
     "output_type": "stream",
     "text": [
      "Not a match!\n"
     ]
    }
   ],
   "source": [
    "pattern = r'life'               # 패턴으로 r'life' 입력\n",
    "script = 'Life is so cool'    \n",
    "refinder(pattern, script)       "
   ]
  },
  {
   "cell_type": "code",
   "execution_count": 13,
   "metadata": {},
   "outputs": [
    {
     "name": "stdout",
     "output_type": "stream",
     "text": [
      "Not a match!\n"
     ]
    }
   ],
   "source": [
    "pattern = r'is'               # 패턴으로 r'is' 입력\n",
    "script = 'Life is so cool'      \n",
    "refinder(pattern, script)       \n",
    "# match가 문자열의 시작부터 매칭되는지 찾는 함수이기 때문에 중간에 있는 패턴을 찾지 못함 "
   ]
  },
  {
   "attachments": {},
   "cell_type": "markdown",
   "metadata": {},
   "source": [
    "### search 메서드 \n",
    "- 문자열 전체에서 패턴 찾기"
   ]
  },
  {
   "cell_type": "code",
   "execution_count": 14,
   "metadata": {},
   "outputs": [
    {
     "data": {
      "text/plain": [
       "'is'"
      ]
     },
     "execution_count": 14,
     "metadata": {},
     "output_type": "execute_result"
    }
   ],
   "source": [
    "re.search(pattern, script).group()     # script에서 pattern(r'is'을 찾아 반환)"
   ]
  },
  {
   "cell_type": "code",
   "execution_count": 15,
   "metadata": {},
   "outputs": [
    {
     "data": {
      "text/plain": [
       "'Life'"
      ]
     },
     "execution_count": 15,
     "metadata": {},
     "output_type": "execute_result"
    }
   ],
   "source": [
    "re.search(r'Life', script).group()     # search는 원고에 있는 패턴을 찾아냄"
   ]
  },
  {
   "cell_type": "code",
   "execution_count": 16,
   "metadata": {},
   "outputs": [
    {
     "data": {
      "text/plain": [
       "'cool'"
      ]
     },
     "execution_count": 16,
     "metadata": {},
     "output_type": "execute_result"
    }
   ],
   "source": [
    "re.search(r'cool', script).group()     # search는 원고 중간에 있는 단어들도 찾아냄"
   ]
  },
  {
   "attachments": {},
   "cell_type": "markdown",
   "metadata": {},
   "source": [
    "### fideall 메서드\n",
    "- 패턴을 모두 찾아 리스트로 반환"
   ]
  },
  {
   "cell_type": "code",
   "execution_count": 17,
   "metadata": {},
   "outputs": [
    {
     "data": {
      "text/plain": [
       "['991011', '710727']"
      ]
     },
     "execution_count": 17,
     "metadata": {},
     "output_type": "execute_result"
    }
   ],
   "source": [
    "number = 'My number is 991011-1****** and yours is 710727-2******'\n",
    "re.findall('\\d{6}', number)       #'\\d{6} 패턴은 숫자를 여섯 번 반복한 값을 의미 "
   ]
  },
  {
   "cell_type": "code",
   "execution_count": 18,
   "metadata": {},
   "outputs": [
    {
     "data": {
      "text/plain": [
       "['91년에 태어났습니다. 97년 에는 IMF가 있었습니다. 지금은 2020년']"
      ]
     },
     "execution_count": 18,
     "metadata": {},
     "output_type": "execute_result"
    }
   ],
   "source": [
    "example1 = '저는 91년에 태어났습니다. 97년 에는 IMF가 있었습니다. 지금은 2020년 입니다'\n",
    "re.findall(r'\\d.+년', example1)         # 숫자(\\d)로 시작하고, 어떠너 문자든(.) 반복(+)되며, '년'으로 끝나는 문자열을 반환\n",
    "# 문장 맨 앞의 숫자부터 맨 뒤의 '년' 사이 모든 문자를 반환"
   ]
  },
  {
   "cell_type": "code",
   "execution_count": 19,
   "metadata": {},
   "outputs": [
    {
     "data": {
      "text/plain": [
       "['91년', '97년', '2020년']"
      ]
     },
     "execution_count": 19,
     "metadata": {},
     "output_type": "execute_result"
    }
   ],
   "source": [
    "# 물음표를 사용하면 탐욕(greedy)를 제어\n",
    "re.findall(r'\\d.+?년', example1)     # '년'이라는 글자를 찾으면 패턴 찾기를 멈춤  "
   ]
  },
  {
   "cell_type": "code",
   "execution_count": 20,
   "metadata": {},
   "outputs": [
    {
     "data": {
      "text/plain": [
       "['91년', '97년', '2020년']"
      ]
     },
     "execution_count": 20,
     "metadata": {},
     "output_type": "execute_result"
    }
   ],
   "source": [
    "re.findall(r'\\d+년', example1)       # 숫자를 반복시킨 후 '년'으로 끝나는 문자를 찾음 "
   ]
  },
  {
   "cell_type": "code",
   "execution_count": 21,
   "metadata": {},
   "outputs": [],
   "source": [
    "example = '이동민 교수는 다음과 같이 설명했습니다(이동민, 2019). 그런데 다른 학자는 이 문제에 대해서 다른 견해를 가지고 있었습니다(최재영,2019). 또 다른 견해도 있었습니다(Lion, 2018).'"
   ]
  },
  {
   "cell_type": "code",
   "execution_count": 22,
   "metadata": {},
   "outputs": [
    {
     "data": {
      "text/plain": [
       "['(이동민, 2019). 그런데 다른 학자는 이 문제에 대해서 다른 견해를 가지고 있었습니다(최재영,2019). 또 다른 견해도 있었습니다(Lion, 2018)']"
      ]
     },
     "execution_count": 22,
     "metadata": {},
     "output_type": "execute_result"
    }
   ],
   "source": [
    "result = re.findall(r'\\(.+\\)', example)     # 앞에 \\를 안붙이면 문자로 인식되지 않음\n",
    "result"
   ]
  },
  {
   "cell_type": "code",
   "execution_count": 23,
   "metadata": {},
   "outputs": [
    {
     "data": {
      "text/plain": [
       "['(이동민, 2019)', '(최재영,2019)', '(Lion, 2018)']"
      ]
     },
     "execution_count": 23,
     "metadata": {},
     "output_type": "execute_result"
    }
   ],
   "source": [
    "result = re.findall(r'\\(.+?\\)', example)     \n",
    "result"
   ]
  },
  {
   "attachments": {},
   "cell_type": "markdown",
   "metadata": {},
   "source": [
    "### split 메서드\n",
    "- 문장 나누는 패턴 만들기"
   ]
  },
  {
   "cell_type": "code",
   "execution_count": 24,
   "metadata": {},
   "outputs": [
    {
     "data": {
      "text/plain": [
       "['I have a lovely dog, really',\n",
       " ' I an not telling a lie',\n",
       " ' what a pretty dog',\n",
       " ' I love this dog',\n",
       " '']"
      ]
     },
     "execution_count": 24,
     "metadata": {},
     "output_type": "execute_result"
    }
   ],
   "source": [
    "sentence = 'I have a lovely dog, really. I an not telling a lie. what a pretty dog! I love this dog.'\n",
    "re.split(r'[.?!]', sentence)"
   ]
  },
  {
   "cell_type": "code",
   "execution_count": 25,
   "metadata": {},
   "outputs": [
    {
     "name": "stdout",
     "output_type": "stream",
     "text": [
      "['a', '3']\n",
      "[' b', '4']\n",
      "[' c', '5']\n"
     ]
    }
   ],
   "source": [
    "data = 'a:3; b:4; c:5'\n",
    "\n",
    "for i in re.split(r';', data):     # 먼저 세미콜론(;)으로 전체 데이터를 한번 구분\n",
    "    print(re.split(r':', i))       # 나눠진 데이터를 다시 콜론(:) 기준으로 나눔"
   ]
  },
  {
   "attachments": {},
   "cell_type": "markdown",
   "metadata": {},
   "source": [
    "### sub 메서드\n",
    "- 문자열 바꾸기"
   ]
  },
  {
   "cell_type": "code",
   "execution_count": 26,
   "metadata": {},
   "outputs": [
    {
     "data": {
      "text/plain": [
       "'I have a lovely cat, really. I an not telling a lie. what a pretty cat! I love this cat.'"
      ]
     },
     "execution_count": 26,
     "metadata": {},
     "output_type": "execute_result"
    }
   ],
   "source": [
    "sentence = 'I have a lovely dog, really. I an not telling a lie. what a pretty dog! I love this dog.'\n",
    "re.sub(r'dog', 'cat', sentence)    # sentence라는 문자열에서 'dog'를 'cat'으로 바꾸기"
   ]
  },
  {
   "cell_type": "code",
   "execution_count": 27,
   "metadata": {},
   "outputs": [
    {
     "name": "stdout",
     "output_type": "stream",
     "text": [
      "I am home now. \n",
      "\n",
      "\n",
      "I am with my cat.\n",
      "\n",
      "\n"
     ]
    }
   ],
   "source": [
    "words = 'I am home now. \\n\\n\\nI am with my cat.\\n\\n' \n",
    "print(words)\n",
    "# 공백이 너무 많음"
   ]
  },
  {
   "cell_type": "code",
   "execution_count": 28,
   "metadata": {},
   "outputs": [
    {
     "data": {
      "text/plain": [
       "'I am home now. I am with my cat.'"
      ]
     },
     "execution_count": 28,
     "metadata": {},
     "output_type": "execute_result"
    }
   ],
   "source": [
    "# 불필요한 공백을 삭제\n",
    "re.sub(r'\\n', '', words)"
   ]
  },
  {
   "attachments": {},
   "cell_type": "markdown",
   "metadata": {},
   "source": [
    "#### ly로 끝나는 단어 추출"
   ]
  },
  {
   "cell_type": "code",
   "execution_count": 29,
   "metadata": {},
   "outputs": [
    {
     "data": {
      "text/plain": [
       "['lovely', 'really']"
      ]
     },
     "execution_count": 29,
     "metadata": {},
     "output_type": "execute_result"
    }
   ],
   "source": [
    "sentence = 'I have a lovely dog, really. I am not telling a lie'\n",
    "re.findall(r'\\w+ly', sentence)    # r'\\w+ly'는 문자나 숫자(\\W)가 몇 번이 나와도 좋으니 반목하고(+), ly로 끝나는 패턴을 의미"
   ]
  },
  {
   "cell_type": "code",
   "execution_count": null,
   "metadata": {},
   "outputs": [],
   "source": []
  }
 ],
 "metadata": {
  "kernelspec": {
   "display_name": "base",
   "language": "python",
   "name": "python3"
  },
  "language_info": {
   "codemirror_mode": {
    "name": "ipython",
    "version": 3
   },
   "file_extension": ".py",
   "mimetype": "text/x-python",
   "name": "python",
   "nbconvert_exporter": "python",
   "pygments_lexer": "ipython3",
   "version": "3.9.13"
  },
  "orig_nbformat": 4
 },
 "nbformat": 4,
 "nbformat_minor": 2
}
