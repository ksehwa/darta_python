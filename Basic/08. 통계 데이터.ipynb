{
 "cells": [
  {
   "cell_type": "code",
   "execution_count": 1,
   "metadata": {},
   "outputs": [],
   "source": [
    "import os, re\n",
    "import pandas as pd\n",
    "os.chdir(r'C:\\Users\\kke86\\OneDrive\\바탕 화면\\data_python\\data_python\\Basic')\n",
    "df = pd.read_csv('survey.csv',encoding = 'cp949')"
   ]
  },
  {
   "cell_type": "code",
   "execution_count": 2,
   "metadata": {},
   "outputs": [
    {
     "data": {
      "text/html": [
       "<div>\n",
       "<style scoped>\n",
       "    .dataframe tbody tr th:only-of-type {\n",
       "        vertical-align: middle;\n",
       "    }\n",
       "\n",
       "    .dataframe tbody tr th {\n",
       "        vertical-align: top;\n",
       "    }\n",
       "\n",
       "    .dataframe thead th {\n",
       "        text-align: right;\n",
       "    }\n",
       "</style>\n",
       "<table border=\"1\" class=\"dataframe\">\n",
       "  <thead>\n",
       "    <tr style=\"text-align: right;\">\n",
       "      <th></th>\n",
       "      <th>sex</th>\n",
       "      <th>income</th>\n",
       "      <th>English</th>\n",
       "      <th>jobSatisfaction</th>\n",
       "      <th>stress</th>\n",
       "    </tr>\n",
       "  </thead>\n",
       "  <tbody>\n",
       "    <tr>\n",
       "      <th>0</th>\n",
       "      <td>m</td>\n",
       "      <td>3000</td>\n",
       "      <td>500</td>\n",
       "      <td>5</td>\n",
       "      <td>5</td>\n",
       "    </tr>\n",
       "    <tr>\n",
       "      <th>1</th>\n",
       "      <td>f</td>\n",
       "      <td>4000</td>\n",
       "      <td>600</td>\n",
       "      <td>4</td>\n",
       "      <td>4</td>\n",
       "    </tr>\n",
       "    <tr>\n",
       "      <th>2</th>\n",
       "      <td>f</td>\n",
       "      <td>5000</td>\n",
       "      <td>700</td>\n",
       "      <td>3</td>\n",
       "      <td>2</td>\n",
       "    </tr>\n",
       "    <tr>\n",
       "      <th>3</th>\n",
       "      <td>m</td>\n",
       "      <td>6000</td>\n",
       "      <td>800</td>\n",
       "      <td>2</td>\n",
       "      <td>2</td>\n",
       "    </tr>\n",
       "    <tr>\n",
       "      <th>4</th>\n",
       "      <td>m</td>\n",
       "      <td>4000</td>\n",
       "      <td>700</td>\n",
       "      <td>2</td>\n",
       "      <td>5</td>\n",
       "    </tr>\n",
       "  </tbody>\n",
       "</table>\n",
       "</div>"
      ],
      "text/plain": [
       "  sex  income  English  jobSatisfaction  stress\n",
       "0   m    3000      500                5       5\n",
       "1   f    4000      600                4       4\n",
       "2   f    5000      700                3       2\n",
       "3   m    6000      800                2       2\n",
       "4   m    4000      700                2       5"
      ]
     },
     "execution_count": 2,
     "metadata": {},
     "output_type": "execute_result"
    }
   ],
   "source": [
    "df.head()"
   ]
  },
  {
   "cell_type": "code",
   "execution_count": 5,
   "metadata": {},
   "outputs": [
    {
     "name": "stderr",
     "output_type": "stream",
     "text": [
      "C:\\Users\\kke86\\AppData\\Local\\Temp\\ipykernel_14332\\504831637.py:1: FutureWarning: Dropping of nuisance columns in DataFrame reductions (with 'numeric_only=None') is deprecated; in a future version this will raise TypeError.  Select only valid columns before calling the reduction.\n",
      "  df.mean()      # 평균\n"
     ]
    },
    {
     "data": {
      "text/plain": [
       "income             4304.217391\n",
       "English             608.695652\n",
       "jobSatisfaction       3.304348\n",
       "stress                3.347826\n",
       "dtype: float64"
      ]
     },
     "execution_count": 5,
     "metadata": {},
     "output_type": "execute_result"
    }
   ],
   "source": [
    "df.mean()      # 평균 "
   ]
  },
  {
   "cell_type": "code",
   "execution_count": 6,
   "metadata": {},
   "outputs": [
    {
     "data": {
      "text/plain": [
       "4304.217391304348"
      ]
     },
     "execution_count": 6,
     "metadata": {},
     "output_type": "execute_result"
    }
   ],
   "source": [
    "df.income.mean()     # 수입의 평균"
   ]
  },
  {
   "cell_type": "code",
   "execution_count": 7,
   "metadata": {},
   "outputs": [
    {
     "data": {
      "text/plain": [
       "98997"
      ]
     },
     "execution_count": 7,
     "metadata": {},
     "output_type": "execute_result"
    }
   ],
   "source": [
    "df.income.sum()     # 수입의 합계"
   ]
  },
  {
   "cell_type": "code",
   "execution_count": 8,
   "metadata": {},
   "outputs": [
    {
     "data": {
      "text/plain": [
       "4999.0"
      ]
     },
     "execution_count": 8,
     "metadata": {},
     "output_type": "execute_result"
    }
   ],
   "source": [
    "df.income.median()     # 수입의 중앙값"
   ]
  },
  {
   "cell_type": "code",
   "execution_count": 9,
   "metadata": {},
   "outputs": [
    {
     "data": {
      "text/html": [
       "<div>\n",
       "<style scoped>\n",
       "    .dataframe tbody tr th:only-of-type {\n",
       "        vertical-align: middle;\n",
       "    }\n",
       "\n",
       "    .dataframe tbody tr th {\n",
       "        vertical-align: top;\n",
       "    }\n",
       "\n",
       "    .dataframe thead th {\n",
       "        text-align: right;\n",
       "    }\n",
       "</style>\n",
       "<table border=\"1\" class=\"dataframe\">\n",
       "  <thead>\n",
       "    <tr style=\"text-align: right;\">\n",
       "      <th></th>\n",
       "      <th>income</th>\n",
       "      <th>English</th>\n",
       "      <th>jobSatisfaction</th>\n",
       "      <th>stress</th>\n",
       "    </tr>\n",
       "  </thead>\n",
       "  <tbody>\n",
       "    <tr>\n",
       "      <th>count</th>\n",
       "      <td>23.000000</td>\n",
       "      <td>23.000000</td>\n",
       "      <td>23.000000</td>\n",
       "      <td>23.000000</td>\n",
       "    </tr>\n",
       "    <tr>\n",
       "      <th>mean</th>\n",
       "      <td>4304.217391</td>\n",
       "      <td>608.695652</td>\n",
       "      <td>3.304348</td>\n",
       "      <td>3.347826</td>\n",
       "    </tr>\n",
       "    <tr>\n",
       "      <th>std</th>\n",
       "      <td>1019.478341</td>\n",
       "      <td>99.603959</td>\n",
       "      <td>1.258960</td>\n",
       "      <td>1.433644</td>\n",
       "    </tr>\n",
       "    <tr>\n",
       "      <th>min</th>\n",
       "      <td>3000.000000</td>\n",
       "      <td>500.000000</td>\n",
       "      <td>1.000000</td>\n",
       "      <td>1.000000</td>\n",
       "    </tr>\n",
       "    <tr>\n",
       "      <th>25%</th>\n",
       "      <td>3000.000000</td>\n",
       "      <td>500.000000</td>\n",
       "      <td>2.500000</td>\n",
       "      <td>2.000000</td>\n",
       "    </tr>\n",
       "    <tr>\n",
       "      <th>50%</th>\n",
       "      <td>4999.000000</td>\n",
       "      <td>600.000000</td>\n",
       "      <td>3.000000</td>\n",
       "      <td>4.000000</td>\n",
       "    </tr>\n",
       "    <tr>\n",
       "      <th>75%</th>\n",
       "      <td>5000.000000</td>\n",
       "      <td>700.000000</td>\n",
       "      <td>4.000000</td>\n",
       "      <td>5.000000</td>\n",
       "    </tr>\n",
       "    <tr>\n",
       "      <th>max</th>\n",
       "      <td>6000.000000</td>\n",
       "      <td>800.000000</td>\n",
       "      <td>5.000000</td>\n",
       "      <td>5.000000</td>\n",
       "    </tr>\n",
       "  </tbody>\n",
       "</table>\n",
       "</div>"
      ],
      "text/plain": [
       "            income     English  jobSatisfaction     stress\n",
       "count    23.000000   23.000000        23.000000  23.000000\n",
       "mean   4304.217391  608.695652         3.304348   3.347826\n",
       "std    1019.478341   99.603959         1.258960   1.433644\n",
       "min    3000.000000  500.000000         1.000000   1.000000\n",
       "25%    3000.000000  500.000000         2.500000   2.000000\n",
       "50%    4999.000000  600.000000         3.000000   4.000000\n",
       "75%    5000.000000  700.000000         4.000000   5.000000\n",
       "max    6000.000000  800.000000         5.000000   5.000000"
      ]
     },
     "execution_count": 9,
     "metadata": {},
     "output_type": "execute_result"
    }
   ],
   "source": [
    "df.describe()     # 기초 통계량"
   ]
  },
  {
   "cell_type": "code",
   "execution_count": 10,
   "metadata": {},
   "outputs": [
    {
     "data": {
      "text/plain": [
       "count      23.000000\n",
       "mean     4304.217391\n",
       "std      1019.478341\n",
       "min      3000.000000\n",
       "25%      3000.000000\n",
       "50%      4999.000000\n",
       "75%      5000.000000\n",
       "max      6000.000000\n",
       "Name: income, dtype: float64"
      ]
     },
     "execution_count": 10,
     "metadata": {},
     "output_type": "execute_result"
    }
   ],
   "source": [
    "df.income.describe()     # 수입의 기초 통계량"
   ]
  },
  {
   "attachments": {},
   "cell_type": "markdown",
   "metadata": {},
   "source": [
    "빈도 분석 : value_counts()"
   ]
  },
  {
   "cell_type": "code",
   "execution_count": 11,
   "metadata": {},
   "outputs": [
    {
     "data": {
      "text/plain": [
       "m    14\n",
       "f     9\n",
       "Name: sex, dtype: int64"
      ]
     },
     "execution_count": 11,
     "metadata": {},
     "output_type": "execute_result"
    }
   ],
   "source": [
    "df.sex.value_counts()"
   ]
  },
  {
   "attachments": {},
   "cell_type": "markdown",
   "metadata": {},
   "source": [
    "두 집단 평균 구하기"
   ]
  },
  {
   "cell_type": "code",
   "execution_count": 12,
   "metadata": {},
   "outputs": [
    {
     "data": {
      "text/html": [
       "<div>\n",
       "<style scoped>\n",
       "    .dataframe tbody tr th:only-of-type {\n",
       "        vertical-align: middle;\n",
       "    }\n",
       "\n",
       "    .dataframe tbody tr th {\n",
       "        vertical-align: top;\n",
       "    }\n",
       "\n",
       "    .dataframe thead th {\n",
       "        text-align: right;\n",
       "    }\n",
       "</style>\n",
       "<table border=\"1\" class=\"dataframe\">\n",
       "  <thead>\n",
       "    <tr style=\"text-align: right;\">\n",
       "      <th></th>\n",
       "      <th>income</th>\n",
       "      <th>English</th>\n",
       "      <th>jobSatisfaction</th>\n",
       "      <th>stress</th>\n",
       "    </tr>\n",
       "  </thead>\n",
       "  <tbody>\n",
       "    <tr>\n",
       "      <th>count</th>\n",
       "      <td>23.000000</td>\n",
       "      <td>23.000000</td>\n",
       "      <td>23.000000</td>\n",
       "      <td>23.000000</td>\n",
       "    </tr>\n",
       "    <tr>\n",
       "      <th>mean</th>\n",
       "      <td>4304.217391</td>\n",
       "      <td>608.695652</td>\n",
       "      <td>3.304348</td>\n",
       "      <td>3.347826</td>\n",
       "    </tr>\n",
       "    <tr>\n",
       "      <th>std</th>\n",
       "      <td>1019.478341</td>\n",
       "      <td>99.603959</td>\n",
       "      <td>1.258960</td>\n",
       "      <td>1.433644</td>\n",
       "    </tr>\n",
       "    <tr>\n",
       "      <th>min</th>\n",
       "      <td>3000.000000</td>\n",
       "      <td>500.000000</td>\n",
       "      <td>1.000000</td>\n",
       "      <td>1.000000</td>\n",
       "    </tr>\n",
       "    <tr>\n",
       "      <th>25%</th>\n",
       "      <td>3000.000000</td>\n",
       "      <td>500.000000</td>\n",
       "      <td>2.500000</td>\n",
       "      <td>2.000000</td>\n",
       "    </tr>\n",
       "    <tr>\n",
       "      <th>50%</th>\n",
       "      <td>4999.000000</td>\n",
       "      <td>600.000000</td>\n",
       "      <td>3.000000</td>\n",
       "      <td>4.000000</td>\n",
       "    </tr>\n",
       "    <tr>\n",
       "      <th>75%</th>\n",
       "      <td>5000.000000</td>\n",
       "      <td>700.000000</td>\n",
       "      <td>4.000000</td>\n",
       "      <td>5.000000</td>\n",
       "    </tr>\n",
       "    <tr>\n",
       "      <th>max</th>\n",
       "      <td>6000.000000</td>\n",
       "      <td>800.000000</td>\n",
       "      <td>5.000000</td>\n",
       "      <td>5.000000</td>\n",
       "    </tr>\n",
       "  </tbody>\n",
       "</table>\n",
       "</div>"
      ],
      "text/plain": [
       "            income     English  jobSatisfaction     stress\n",
       "count    23.000000   23.000000        23.000000  23.000000\n",
       "mean   4304.217391  608.695652         3.304348   3.347826\n",
       "std    1019.478341   99.603959         1.258960   1.433644\n",
       "min    3000.000000  500.000000         1.000000   1.000000\n",
       "25%    3000.000000  500.000000         2.500000   2.000000\n",
       "50%    4999.000000  600.000000         3.000000   4.000000\n",
       "75%    5000.000000  700.000000         4.000000   5.000000\n",
       "max    6000.000000  800.000000         5.000000   5.000000"
      ]
     },
     "execution_count": 12,
     "metadata": {},
     "output_type": "execute_result"
    }
   ],
   "source": [
    "df.describe()"
   ]
  },
  {
   "cell_type": "code",
   "execution_count": 13,
   "metadata": {},
   "outputs": [
    {
     "data": {
      "text/html": [
       "<div>\n",
       "<style scoped>\n",
       "    .dataframe tbody tr th:only-of-type {\n",
       "        vertical-align: middle;\n",
       "    }\n",
       "\n",
       "    .dataframe tbody tr th {\n",
       "        vertical-align: top;\n",
       "    }\n",
       "\n",
       "    .dataframe thead th {\n",
       "        text-align: right;\n",
       "    }\n",
       "</style>\n",
       "<table border=\"1\" class=\"dataframe\">\n",
       "  <thead>\n",
       "    <tr style=\"text-align: right;\">\n",
       "      <th></th>\n",
       "      <th>income</th>\n",
       "      <th>English</th>\n",
       "      <th>jobSatisfaction</th>\n",
       "      <th>stress</th>\n",
       "    </tr>\n",
       "    <tr>\n",
       "      <th>sex</th>\n",
       "      <th></th>\n",
       "      <th></th>\n",
       "      <th></th>\n",
       "      <th></th>\n",
       "    </tr>\n",
       "  </thead>\n",
       "  <tbody>\n",
       "    <tr>\n",
       "      <th>f</th>\n",
       "      <td>4333.111111</td>\n",
       "      <td>633.333333</td>\n",
       "      <td>3.666667</td>\n",
       "      <td>3.111111</td>\n",
       "    </tr>\n",
       "    <tr>\n",
       "      <th>m</th>\n",
       "      <td>4285.642857</td>\n",
       "      <td>592.857143</td>\n",
       "      <td>3.071429</td>\n",
       "      <td>3.500000</td>\n",
       "    </tr>\n",
       "  </tbody>\n",
       "</table>\n",
       "</div>"
      ],
      "text/plain": [
       "          income     English  jobSatisfaction    stress\n",
       "sex                                                    \n",
       "f    4333.111111  633.333333         3.666667  3.111111\n",
       "m    4285.642857  592.857143         3.071429  3.500000"
      ]
     },
     "execution_count": 13,
     "metadata": {},
     "output_type": "execute_result"
    }
   ],
   "source": [
    "df.groupby(df.sex).mean()"
   ]
  },
  {
   "cell_type": "code",
   "execution_count": 14,
   "metadata": {},
   "outputs": [],
   "source": [
    "from scipy import stats"
   ]
  },
  {
   "attachments": {},
   "cell_type": "markdown",
   "metadata": {},
   "source": [
    "### < t-검정 >"
   ]
  },
  {
   "cell_type": "code",
   "execution_count": 17,
   "metadata": {},
   "outputs": [
    {
     "data": {
      "text/plain": [
       "Ttest_indResult(statistic=-0.10650308143428425, pvalue=0.9161940781163369)"
      ]
     },
     "execution_count": 17,
     "metadata": {},
     "output_type": "execute_result"
    }
   ],
   "source": [
    "male = df.income[df.sex == 'm']      # 남성의 수입\n",
    "female = df.income[df.sex == 'f']    # 여성의 수입\n",
    "\n",
    "stats.ttest_ind(male, female)      # t검정"
   ]
  },
  {
   "attachments": {},
   "cell_type": "markdown",
   "metadata": {},
   "source": [
    "pvalue(유의확률)이 작을수록 유의한 차이가 있다. 위에 결과는 pvalue가 0.916으로 1에 가까울 정도로 높다. \n",
    "\n",
    "즉 남성과 여성의 수입평균을 비교한 t검정의 결과에 유의한 차이가 있다고 보기는 어렵다."
   ]
  },
  {
   "cell_type": "code",
   "execution_count": 18,
   "metadata": {},
   "outputs": [
    {
     "name": "stdout",
     "output_type": "stream",
     "text": [
      "Ttest_indResult(statistic=-0.10650308143428425, pvalue=0.9161940781163369)\n"
     ]
    }
   ],
   "source": [
    "ttsse_result = stats.ttest_ind(male, female) \n",
    "print(ttsse_result)"
   ]
  },
  {
   "cell_type": "code",
   "execution_count": 20,
   "metadata": {},
   "outputs": [
    {
     "name": "stdout",
     "output_type": "stream",
     "text": [
      "-0.10650308143428425\n",
      "0.9161940781163369\n"
     ]
    }
   ],
   "source": [
    "print(ttsse_result[0])    # statics 값이 들어감\n",
    "print(ttsse_result[1])    # pvalue 값이 들어감"
   ]
  },
  {
   "cell_type": "code",
   "execution_count": 21,
   "metadata": {},
   "outputs": [
    {
     "name": "stdout",
     "output_type": "stream",
     "text": [
      "p-value는 0.916194로 95% 수준에서 유의하지 않음\n"
     ]
    }
   ],
   "source": [
    "if ttsse_result[1] > .05:\n",
    "    print('p-value는 %f로 95%% 수준에서 유의하지 않음' % ttsse_result[1])\n",
    "else:\n",
    "     print('p-value는 %f로 95%% 수준에서 유의함' % ttsse_result[1])\n"
   ]
  },
  {
   "attachments": {},
   "cell_type": "markdown",
   "metadata": {},
   "source": [
    "### < 상관관계 분석 >\n",
    "- 스피어만의 상관계수 : 변수가 순위 척도 일 때 사용\n",
    "- 피어슨의 상관계수 : 연속형자의 상관관계를 다룬다."
   ]
  },
  {
   "cell_type": "code",
   "execution_count": 22,
   "metadata": {},
   "outputs": [
    {
     "data": {
      "text/html": [
       "<div>\n",
       "<style scoped>\n",
       "    .dataframe tbody tr th:only-of-type {\n",
       "        vertical-align: middle;\n",
       "    }\n",
       "\n",
       "    .dataframe tbody tr th {\n",
       "        vertical-align: top;\n",
       "    }\n",
       "\n",
       "    .dataframe thead th {\n",
       "        text-align: right;\n",
       "    }\n",
       "</style>\n",
       "<table border=\"1\" class=\"dataframe\">\n",
       "  <thead>\n",
       "    <tr style=\"text-align: right;\">\n",
       "      <th></th>\n",
       "      <th>income</th>\n",
       "      <th>English</th>\n",
       "      <th>jobSatisfaction</th>\n",
       "      <th>stress</th>\n",
       "    </tr>\n",
       "  </thead>\n",
       "  <tbody>\n",
       "    <tr>\n",
       "      <th>income</th>\n",
       "      <td>1.000000</td>\n",
       "      <td>0.599452</td>\n",
       "      <td>-0.040108</td>\n",
       "      <td>-0.137920</td>\n",
       "    </tr>\n",
       "    <tr>\n",
       "      <th>English</th>\n",
       "      <td>0.599452</td>\n",
       "      <td>1.000000</td>\n",
       "      <td>-0.312051</td>\n",
       "      <td>0.073351</td>\n",
       "    </tr>\n",
       "    <tr>\n",
       "      <th>jobSatisfaction</th>\n",
       "      <td>-0.040108</td>\n",
       "      <td>-0.312051</td>\n",
       "      <td>1.000000</td>\n",
       "      <td>0.165338</td>\n",
       "    </tr>\n",
       "    <tr>\n",
       "      <th>stress</th>\n",
       "      <td>-0.137920</td>\n",
       "      <td>0.073351</td>\n",
       "      <td>0.165338</td>\n",
       "      <td>1.000000</td>\n",
       "    </tr>\n",
       "  </tbody>\n",
       "</table>\n",
       "</div>"
      ],
      "text/plain": [
       "                   income   English  jobSatisfaction    stress\n",
       "income           1.000000  0.599452        -0.040108 -0.137920\n",
       "English          0.599452  1.000000        -0.312051  0.073351\n",
       "jobSatisfaction -0.040108 -0.312051         1.000000  0.165338\n",
       "stress          -0.137920  0.073351         0.165338  1.000000"
      ]
     },
     "execution_count": 22,
     "metadata": {},
     "output_type": "execute_result"
    }
   ],
   "source": [
    "corr = df.corr()\n",
    "corr"
   ]
  },
  {
   "cell_type": "code",
   "execution_count": 23,
   "metadata": {},
   "outputs": [
    {
     "data": {
      "text/html": [
       "<div>\n",
       "<style scoped>\n",
       "    .dataframe tbody tr th:only-of-type {\n",
       "        vertical-align: middle;\n",
       "    }\n",
       "\n",
       "    .dataframe tbody tr th {\n",
       "        vertical-align: top;\n",
       "    }\n",
       "\n",
       "    .dataframe thead th {\n",
       "        text-align: right;\n",
       "    }\n",
       "</style>\n",
       "<table border=\"1\" class=\"dataframe\">\n",
       "  <thead>\n",
       "    <tr style=\"text-align: right;\">\n",
       "      <th></th>\n",
       "      <th>income</th>\n",
       "      <th>English</th>\n",
       "      <th>jobSatisfaction</th>\n",
       "      <th>stress</th>\n",
       "    </tr>\n",
       "  </thead>\n",
       "  <tbody>\n",
       "    <tr>\n",
       "      <th>income</th>\n",
       "      <td>1.000000</td>\n",
       "      <td>0.543705</td>\n",
       "      <td>-0.100683</td>\n",
       "      <td>-0.170584</td>\n",
       "    </tr>\n",
       "    <tr>\n",
       "      <th>English</th>\n",
       "      <td>0.543705</td>\n",
       "      <td>1.000000</td>\n",
       "      <td>-0.309747</td>\n",
       "      <td>0.068223</td>\n",
       "    </tr>\n",
       "    <tr>\n",
       "      <th>jobSatisfaction</th>\n",
       "      <td>-0.100683</td>\n",
       "      <td>-0.309747</td>\n",
       "      <td>1.000000</td>\n",
       "      <td>0.154982</td>\n",
       "    </tr>\n",
       "    <tr>\n",
       "      <th>stress</th>\n",
       "      <td>-0.170584</td>\n",
       "      <td>0.068223</td>\n",
       "      <td>0.154982</td>\n",
       "      <td>1.000000</td>\n",
       "    </tr>\n",
       "  </tbody>\n",
       "</table>\n",
       "</div>"
      ],
      "text/plain": [
       "                   income   English  jobSatisfaction    stress\n",
       "income           1.000000  0.543705        -0.100683 -0.170584\n",
       "English          0.543705  1.000000        -0.309747  0.068223\n",
       "jobSatisfaction -0.100683 -0.309747         1.000000  0.154982\n",
       "stress          -0.170584  0.068223         0.154982  1.000000"
      ]
     },
     "execution_count": 23,
     "metadata": {},
     "output_type": "execute_result"
    }
   ],
   "source": [
    "df.corr(method= 'spearman')\n"
   ]
  },
  {
   "cell_type": "code",
   "execution_count": 26,
   "metadata": {},
   "outputs": [
    {
     "data": {
      "text/plain": [
       "-0.13791959796123449"
      ]
     },
     "execution_count": 26,
     "metadata": {},
     "output_type": "execute_result"
    }
   ],
   "source": [
    "df.income.corr(df.stress)     # 수입과 스트레스의 상관관계"
   ]
  },
  {
   "attachments": {},
   "cell_type": "markdown",
   "metadata": {},
   "source": [
    "### < 단순 회귀 분석 >"
   ]
  },
  {
   "cell_type": "code",
   "execution_count": 33,
   "metadata": {},
   "outputs": [
    {
     "name": "stdout",
     "output_type": "stream",
     "text": [
      "                            OLS Regression Results                            \n",
      "==============================================================================\n",
      "Dep. Variable:        jobSatisfaction   R-squared:                       0.097\n",
      "Model:                            OLS   Adj. R-squared:                  0.054\n",
      "Method:                 Least Squares   F-statistic:                     2.266\n",
      "Date:                Tue, 27 Jun 2023   Prob (F-statistic):              0.147\n",
      "Time:                        15:56:10   Log-Likelihood:                -36.243\n",
      "No. Observations:                  23   AIC:                             76.49\n",
      "Df Residuals:                      21   BIC:                             78.76\n",
      "Df Model:                           1                                         \n",
      "Covariance Type:            nonrobust                                         \n",
      "==============================================================================\n",
      "                 coef    std err          t      P>|t|      [0.025      0.975]\n",
      "------------------------------------------------------------------------------\n",
      "Intercept      5.7052      1.615      3.532      0.002       2.346       9.065\n",
      "English       -0.0039      0.003     -1.505      0.147      -0.009       0.002\n",
      "==============================================================================\n",
      "Omnibus:                        0.120   Durbin-Watson:                   0.777\n",
      "Prob(Omnibus):                  0.942   Jarque-Bera (JB):                0.306\n",
      "Skew:                          -0.126   Prob(JB):                        0.858\n",
      "Kurtosis:                       2.495   Cond. No.                     3.90e+03\n",
      "==============================================================================\n",
      "\n",
      "Notes:\n",
      "[1] Standard Errors assume that the covariance matrix of the errors is correctly specified.\n",
      "[2] The condition number is large, 3.9e+03. This might indicate that there are\n",
      "strong multicollinearity or other numerical problems.\n"
     ]
    }
   ],
   "source": [
    "import statsmodels.formula.api as smf\n",
    "\n",
    "model = smf.ols(formula = 'jobSatisfaction~English', data =df)\n",
    "result = model.fit()\n",
    "\n",
    "print(result.summary())\n"
   ]
  },
  {
   "attachments": {},
   "cell_type": "markdown",
   "metadata": {},
   "source": [
    "[ 결정계수(R2) ]  \n",
    "- 해당 모델이 관측치에 얼마나 잘 맞는지 알려주는 지표\n",
    "- 0~1 의 값을 갖는다. 모델이 완전히 관측치에 들어맞을수록 1에 가까워 진다.\n",
    "- 보통 03.~0.7 사이에 값이 분포한다. 1에 너무 가까우면 연구 가치가 없는 것으로 해석될 여지가 있음.\n",
    "- 위 모델에서는 R-squared의 값이 0.097로 너무 낮음\n",
    "\n",
    "[ 유의확률 Prob(F-statistic) ]\n",
    "\n",
    "[ 계숫값 지표 coef(cofficient) ]\n",
    "- 위 모델은 English으 coef값은 -0.0039"
   ]
  },
  {
   "cell_type": "code",
   "execution_count": 34,
   "metadata": {},
   "outputs": [
    {
     "name": "stdout",
     "output_type": "stream",
     "text": [
      "                            OLS Regression Results                            \n",
      "==============================================================================\n",
      "Dep. Variable:        jobSatisfaction   R-squared:                       0.097\n",
      "Model:                            OLS   Adj. R-squared:                  0.054\n",
      "Method:                 Least Squares   F-statistic:                     2.266\n",
      "Date:                Tue, 27 Jun 2023   Prob (F-statistic):              0.147\n",
      "Time:                        16:36:44   Log-Likelihood:                -36.243\n",
      "No. Observations:                  23   AIC:                             76.49\n",
      "Df Residuals:                      21   BIC:                             78.76\n",
      "Df Model:                           1                                         \n",
      "Covariance Type:            nonrobust                                         \n",
      "==============================================================================\n",
      "                 coef    std err          t      P>|t|      [0.025      0.975]\n",
      "------------------------------------------------------------------------------\n",
      "Intercept      5.7052      1.615      3.532      0.002       2.346       9.065\n",
      "English       -0.0039      0.003     -1.505      0.147      -0.009       0.002\n",
      "==============================================================================\n",
      "Omnibus:                        0.120   Durbin-Watson:                   0.777\n",
      "Prob(Omnibus):                  0.942   Jarque-Bera (JB):                0.306\n",
      "Skew:                          -0.126   Prob(JB):                        0.858\n",
      "Kurtosis:                       2.495   Cond. No.                     3.90e+03\n",
      "==============================================================================\n",
      "\n",
      "Notes:\n",
      "[1] Standard Errors assume that the covariance matrix of the errors is correctly specified.\n",
      "[2] The condition number is large, 3.9e+03. This might indicate that there are\n",
      "strong multicollinearity or other numerical problems.\n"
     ]
    }
   ],
   "source": [
    "model2 = smf.ols(formula = 'jobSatisfaction~English + stress + income', data =df)\n",
    "result = model.fit()\n",
    "\n",
    "print(result.summary())"
   ]
  },
  {
   "cell_type": "code",
   "execution_count": null,
   "metadata": {},
   "outputs": [],
   "source": []
  }
 ],
 "metadata": {
  "kernelspec": {
   "display_name": "base",
   "language": "python",
   "name": "python3"
  },
  "language_info": {
   "codemirror_mode": {
    "name": "ipython",
    "version": 3
   },
   "file_extension": ".py",
   "mimetype": "text/x-python",
   "name": "python",
   "nbconvert_exporter": "python",
   "pygments_lexer": "ipython3",
   "version": "3.9.13"
  },
  "orig_nbformat": 4
 },
 "nbformat": 4,
 "nbformat_minor": 2
}
