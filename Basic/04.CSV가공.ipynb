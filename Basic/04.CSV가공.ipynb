{
 "cells": [
  {
   "attachments": {},
   "cell_type": "markdown",
   "metadata": {},
   "source": [
    "### CSV 파일 읽기"
   ]
  },
  {
   "cell_type": "code",
   "execution_count": 5,
   "metadata": {},
   "outputs": [
    {
     "name": "stdout",
     "output_type": "stream",
     "text": [
      "['\\ufeff국어', '영어', '수학']\n",
      "['90', '80', '100']\n"
     ]
    }
   ],
   "source": [
    "import csv, os\n",
    "os.chdir(r'C:\\Users\\kke86\\OneDrive\\바탕 화면\\data_python\\data_python\\Basic')\n",
    "f = open('a.csv', 'r', encoding='utf-8')\n",
    "\n",
    "new = csv.reader(f)   # 객체 f를 csv.reader로 읽어 new객체에 저장\n",
    "for i in new:\n",
    "    print(i)"
   ]
  },
  {
   "cell_type": "code",
   "execution_count": 7,
   "metadata": {},
   "outputs": [
    {
     "data": {
      "text/plain": [
       "[]"
      ]
     },
     "execution_count": 7,
     "metadata": {},
     "output_type": "execute_result"
    }
   ],
   "source": [
    "a_list = []\n",
    "for i in new:\n",
    "    print(i)\n",
    "    a_list.append(i)\n",
    "a_list    "
   ]
  },
  {
   "cell_type": "code",
   "execution_count": 9,
   "metadata": {},
   "outputs": [
    {
     "data": {
      "text/plain": [
       "0"
      ]
     },
     "execution_count": 9,
     "metadata": {},
     "output_type": "execute_result"
    }
   ],
   "source": [
    "f.seek(0)   #커서를 처음으로 이동  / 0이 출력되면 커서가 처음으로 이동했다는 의미"
   ]
  },
  {
   "cell_type": "code",
   "execution_count": 10,
   "metadata": {},
   "outputs": [
    {
     "name": "stdout",
     "output_type": "stream",
     "text": [
      "['\\ufeff국어', '영어', '수학']\n",
      "['90', '80', '100']\n"
     ]
    }
   ],
   "source": [
    "for i in new:\n",
    "    print(i)\n",
    "    a_list.append(i)"
   ]
  },
  {
   "cell_type": "code",
   "execution_count": 11,
   "metadata": {},
   "outputs": [
    {
     "data": {
      "text/plain": [
       "[['\\ufeff국어', '영어', '수학'], ['90', '80', '100']]"
      ]
     },
     "execution_count": 11,
     "metadata": {},
     "output_type": "execute_result"
    }
   ],
   "source": [
    "a_list"
   ]
  },
  {
   "cell_type": "code",
   "execution_count": 14,
   "metadata": {},
   "outputs": [],
   "source": [
    "# 함수를 사용해서 이름만 입력하면 CSV 파일을 열 수 있도록 함수 지정\n",
    "\n",
    "def opencsv(filename):\n",
    "    f= open(filename, 'r')\n",
    "    reader = csv.reader(f)\n",
    "    output = []\n",
    "    for i in reader:\n",
    "        output.append(i)\n",
    "    return output"
   ]
  },
  {
   "cell_type": "code",
   "execution_count": 15,
   "metadata": {},
   "outputs": [
    {
     "data": {
      "text/plain": [
       "[['\\ufeff이름', '국어', '영어', '수학'],\n",
       " ['a', '90', '80', '100'],\n",
       " ['b', '80', '90', '90'],\n",
       " ['c', '100', '80', '60']]"
      ]
     },
     "execution_count": 15,
     "metadata": {},
     "output_type": "execute_result"
    }
   ],
   "source": [
    "opencsv('example.csv')"
   ]
  },
  {
   "attachments": {},
   "cell_type": "markdown",
   "metadata": {},
   "source": [
    "### CSV 파일 쓰기"
   ]
  },
  {
   "cell_type": "code",
   "execution_count": 26,
   "metadata": {},
   "outputs": [],
   "source": [
    "a = [['구','전체','내국인','외국인'],\n",
    "['관악구','519864','502089','17775'],\n",
    "['강남구','547602','542498','5104'],\n",
    "['송파구','686181','679247','6934'],\n",
    "['강동구','428547','424235','4312']]"
   ]
  },
  {
   "cell_type": "code",
   "execution_count": 33,
   "metadata": {},
   "outputs": [],
   "source": [
    "# csv.writer은 csv형 리스트 파일을 쓸 수 있게 해줌\n",
    "f = open('abc.csv','w', newline='', encoding='utf-8')"
   ]
  },
  {
   "cell_type": "code",
   "execution_count": 34,
   "metadata": {},
   "outputs": [],
   "source": [
    "csvobject = csv.writer(f, delimiter=',')"
   ]
  },
  {
   "cell_type": "code",
   "execution_count": 35,
   "metadata": {},
   "outputs": [],
   "source": [
    "csvobject.writerows(a)\n",
    "f.close()"
   ]
  },
  {
   "cell_type": "code",
   "execution_count": 37,
   "metadata": {},
   "outputs": [],
   "source": [
    "# 함수를 사용해서 이름만 입력하면 CSV 파일을 쓸 수 있도록\n",
    "\n",
    "def writecsv(filename, the_list):                  # 첫 번째 변수는 파일이름, 두번째 변수는 CSV형 리스트를 저장한 객체 \n",
    "    with open(filename, 'w', newline='') as f:     # 파일을 닫기 위해 whitt문 사용\n",
    "        a = csv.writer(f, delimiter=',')\n",
    "        a.writerows(the_list)m "
   ]
  },
  {
   "attachments": {},
   "cell_type": "markdown",
   "metadata": {},
   "source": [
    "csv형 리스트를 csv 파일로 저장"
   ]
  },
  {
   "cell_type": "code",
   "execution_count": 38,
   "metadata": {},
   "outputs": [],
   "source": [
    "import usecsv\n",
    "os.chdir(r'C:\\Users\\kke86\\OneDrive\\바탕 화면\\data_python\\data_python\\Basic')\n",
    "a =[['국어','영어','수학'],[99,88,77]]\n",
    "usecsv.writecsv('test.csv', a)"
   ]
  },
  {
   "cell_type": "code",
   "execution_count": 39,
   "metadata": {},
   "outputs": [],
   "source": [
    "import os, usecsv\n",
    "os.chdir(r'C:\\Users\\kke86\\OneDrive\\바탕 화면\\data_python\\data_python\\Basic')\n",
    "a =[['물리','화학','생물'],[70,99,100]]\n",
    "usecsv.writecsv('test.csv', a)"
   ]
  },
  {
   "attachments": {},
   "cell_type": "markdown",
   "metadata": {},
   "source": [
    "### CSV 파일 안의 문자를 숫자로 전환하기"
   ]
  },
  {
   "cell_type": "code",
   "execution_count": 40,
   "metadata": {},
   "outputs": [
    {
     "name": "stdout",
     "output_type": "stream",
     "text": [
      "['Gu', 'Korean', 'Foreigner', 'Senior']\n",
      "['Total', '9,740,398', '285,529', '1,468,146']\n",
      "['Jongrogu', '151,767', '11,093', '27,394']\n",
      "['Jongru', '126,409', '10,254', '23,025']\n",
      "['Yongsangu', '228,830', '16,159', '38,531']\n"
     ]
    }
   ],
   "source": [
    "import os, re\n",
    "import usecsv\n",
    "os.chdir(r'C:\\Users\\kke86\\OneDrive\\바탕 화면\\data_python\\data_python\\Basic')\n",
    "total = usecsv.opencsv('popSeoul.csv')\n",
    "\n",
    "for i in total [:5]:\n",
    "    print(i)"
   ]
  },
  {
   "cell_type": "code",
   "execution_count": 43,
   "metadata": {},
   "outputs": [
    {
     "data": {
      "text/plain": [
       "['Jongrogu', 151767.0, 11093.0, 27394.0]"
      ]
     },
     "execution_count": 43,
     "metadata": {},
     "output_type": "execute_result"
    }
   ],
   "source": [
    "# 숫자 원소만 골라서 쉼표 제거\n",
    "import re\n",
    "i = total[2]           # 종로구 데이터 불러오기\n",
    "\n",
    "k = []\n",
    "for j in i:\n",
    "    if re.search('\\d', j):                          # j에 숫자가 들어 있다면 \n",
    "        k.append(float(re.sub(',','', j)))          # 쉼표를 삭제하고 실수형으로 바꿔 k에 추가\n",
    "\n",
    "    else:                                           # j에 숫자가 들어 있지 않다면 \n",
    "        k.append(j)                                 # 그대로 k에 저장\n",
    "k            "
   ]
  },
  {
   "cell_type": "code",
   "execution_count": 45,
   "metadata": {},
   "outputs": [
    {
     "data": {
      "text/plain": [
       "['123강남', 151767.0, 11093.0, 27394.0]"
      ]
     },
     "execution_count": 45,
     "metadata": {},
     "output_type": "execute_result"
    }
   ],
   "source": [
    "#문자와 숫자가 섞인 원소 골라내기\n",
    " \n",
    "p = ['123강남','151,767','11,093','27,394']\n",
    "k = []\n",
    "\n",
    "for j in p:\n",
    "    if re.search('[a-z가-힣]', j):             # 알파벳 또는 한글이 있다면 그대로 k에 저장            \n",
    "        k.append(j)         \n",
    "    else:                                           \n",
    "         k.append(float(re.sub(',','', j)))                     \n",
    "k            "
   ]
  },
  {
   "cell_type": "code",
   "execution_count": 48,
   "metadata": {},
   "outputs": [
    {
     "data": {
      "text/plain": [
       "['123!!', 151767.0, 11093.0, 27394.0]"
      ]
     },
     "execution_count": 48,
     "metadata": {},
     "output_type": "execute_result"
    }
   ],
   "source": [
    "#특수문자와 숫자가 섞인 원소 골라내기\n",
    " \n",
    "i = ['123!!','151,767','11,093','27,394']\n",
    "\n",
    "for j in i:\n",
    "    if re.search('[a-z가-힣!]', j):             # 알파벳 또는 한글이 있다면 그대로 k에 저장            \n",
    "        k.append(j)         \n",
    "    else:                                           \n",
    "         k.append(float(re.sub(',','', j)))                     \n",
    "k            "
   ]
  },
  {
   "cell_type": "code",
   "execution_count": 49,
   "metadata": {},
   "outputs": [
    {
     "data": {
      "text/plain": [
       "['123!!', 151767.0, 11093.0, 27394.0]"
      ]
     },
     "execution_count": 49,
     "metadata": {},
     "output_type": "execute_result"
    }
   ],
   "source": [
    "# 해당하는 원소만 바꾸기\n",
    "i = ['123!!','151,767','11,093','27,394']\n",
    "\n",
    "for j in i:\n",
    "    if re.search('[a-z가-힣!]', j):\n",
    "        i[i.index(j)] = j\n",
    "    else:\n",
    "        i[i.index(j)] = (float(re.sub(',','', j)))   \n",
    "i           \n",
    "\n"
   ]
  },
  {
   "attachments": {},
   "cell_type": "markdown",
   "metadata": {},
   "source": [
    "#####  예외처리"
   ]
  },
  {
   "cell_type": "code",
   "execution_count": 57,
   "metadata": {},
   "outputs": [
    {
     "ename": "ValueError",
     "evalue": "could not convert string to float: ''",
     "output_type": "error",
     "traceback": [
      "\u001b[1;31m---------------------------------------------------------------------------\u001b[0m",
      "\u001b[1;31mValueError\u001b[0m                                Traceback (most recent call last)",
      "\u001b[1;32m~\\AppData\\Local\\Temp\\ipykernel_15388\\3243548409.py\u001b[0m in \u001b[0;36m<module>\u001b[1;34m\u001b[0m\n\u001b[0;32m      5\u001b[0m         \u001b[0mi\u001b[0m\u001b[1;33m[\u001b[0m\u001b[0mi\u001b[0m\u001b[1;33m.\u001b[0m\u001b[0mindex\u001b[0m\u001b[1;33m(\u001b[0m\u001b[0mj\u001b[0m\u001b[1;33m)\u001b[0m\u001b[1;33m]\u001b[0m \u001b[1;33m=\u001b[0m \u001b[0mj\u001b[0m\u001b[1;33m\u001b[0m\u001b[1;33m\u001b[0m\u001b[0m\n\u001b[0;32m      6\u001b[0m     \u001b[1;32melse\u001b[0m\u001b[1;33m:\u001b[0m\u001b[1;33m\u001b[0m\u001b[1;33m\u001b[0m\u001b[0m\n\u001b[1;32m----> 7\u001b[1;33m         \u001b[0mi\u001b[0m\u001b[1;33m[\u001b[0m\u001b[0mi\u001b[0m\u001b[1;33m.\u001b[0m\u001b[0mindex\u001b[0m\u001b[1;33m(\u001b[0m\u001b[0mj\u001b[0m\u001b[1;33m)\u001b[0m\u001b[1;33m]\u001b[0m \u001b[1;33m=\u001b[0m \u001b[1;33m(\u001b[0m\u001b[0mfloat\u001b[0m\u001b[1;33m(\u001b[0m\u001b[0mre\u001b[0m\u001b[1;33m.\u001b[0m\u001b[0msub\u001b[0m\u001b[1;33m(\u001b[0m\u001b[1;34m','\u001b[0m\u001b[1;33m,\u001b[0m\u001b[1;34m''\u001b[0m\u001b[1;33m,\u001b[0m \u001b[0mj\u001b[0m\u001b[1;33m)\u001b[0m\u001b[1;33m)\u001b[0m\u001b[1;33m)\u001b[0m\u001b[1;33m\u001b[0m\u001b[1;33m\u001b[0m\u001b[0m\n\u001b[0m\u001b[0;32m      8\u001b[0m \u001b[0mi\u001b[0m\u001b[1;33m\u001b[0m\u001b[1;33m\u001b[0m\u001b[0m\n",
      "\u001b[1;31mValueError\u001b[0m: could not convert string to float: ''"
     ]
    }
   ],
   "source": [
    "i = ['123!!','151,767','11,093','27,394','']\n",
    "\n",
    "for j in i:\n",
    "    if re.search('[a-z가-힣!]', j):\n",
    "        i[i.index(j)] = j\n",
    "    else:\n",
    "        i[i.index(j)] = (float(re.sub(',','', j)))   \n",
    "i           "
   ]
  },
  {
   "cell_type": "code",
   "execution_count": 58,
   "metadata": {},
   "outputs": [
    {
     "data": {
      "text/plain": [
       "['123!!', 151767.0, 11093.0, 27394.0, '']"
      ]
     },
     "execution_count": 58,
     "metadata": {},
     "output_type": "execute_result"
    }
   ],
   "source": [
    "# 예외처리\n",
    "for j in i:\n",
    "     try:\n",
    "         i[i.index(j)] = float(re.sub(',','', j))   \n",
    "     except:\n",
    "        pass\n",
    "i     \n"
   ]
  },
  {
   "cell_type": "code",
   "execution_count": 60,
   "metadata": {},
   "outputs": [
    {
     "data": {
      "text/plain": [
       "['Total', 9740398.0, 285529.0, 1468146.0]"
      ]
     },
     "execution_count": 60,
     "metadata": {},
     "output_type": "execute_result"
    }
   ],
   "source": [
    "# 예외 처리로 숫자만 골라서 숫자형으로 바꾸기\n",
    "i = total[1]     # 리시트 하나만 가져아 실험\n",
    "for j in i:\n",
    "    try:\n",
    "        i[i.index(j)] = float(re.sub(',','', j))\n",
    "    except:\n",
    "        pass\n",
    "i        "
   ]
  },
  {
   "cell_type": "code",
   "execution_count": 61,
   "metadata": {},
   "outputs": [
    {
     "data": {
      "text/plain": [
       "[['Gu', 'Korean', 'Foreigner', 'Senior'],\n",
       " ['Total', 9740398.0, 285529.0, 1468146.0],\n",
       " ['Jongrogu', 151767.0, 11093.0, 27394.0],\n",
       " ['Jongru', 126409.0, 10254.0, 23025.0],\n",
       " ['Yongsangu', 228830.0, 16159.0, 38531.0],\n",
       " ['Seongdonggu', 303158.0, 8132.0, 43662.0],\n",
       " ['Kwangjingu', 352692.0, 15645.0, 47347.0],\n",
       " ['Dongdaemoongu', 346551.0, 17228.0, 58764.0],\n",
       " ['Jungranggu', 398812.0, 4964.0, 64449.0],\n",
       " ['Seongbukgu', 441590.0, 12524.0, 70204.0],\n",
       " ['Gangbukgu', 314090.0, 3785.0, 59808.0],\n",
       " ['Dobonggu', 335280.0, 2314.0, 58070.0],\n",
       " ['Nowonggu', 535282.0, 4547.0, 79968.0],\n",
       " ['Eunpyonggu', 481663.0, 4496.0, 79957.0],\n",
       " ['Seodaemungu', 310069.0, 14020.0, 51708.0],\n",
       " ['Mapogu', 373629.0, 11976.0, 51961.0],\n",
       " ['Yangcheongu', 459849.0, 4082.0, 60487.0],\n",
       " ['Gangseogu', 593708.0, 6532.0, 82937.0],\n",
       " ['Gurogu', 406748.0, 33102.0, 64952.0],\n",
       " ['Guemcheongu', 233371.0, 19497.0, 37191.0],\n",
       " ['Youngdeungpogu', 368402.0, 34076.0, 57350.0],\n",
       " ['Dongjakgu', 397618.0, 12869.0, 61607.0],\n",
       " ['Kwanakgu', 502117.0, 17836.0, 74518.0],\n",
       " ['Seoucheogu', 431027.0, 4231.0, 56455.0],\n",
       " ['Gangnamgu', 544028.0, 5015.0, 70029.0],\n",
       " ['Songpagu', 677489.0, 6849.0, 86062.0],\n",
       " ['Gangdonggu', 426219.0, 4303.0, 61710.0]]"
      ]
     },
     "execution_count": 61,
     "metadata": {},
     "output_type": "execute_result"
    }
   ],
   "source": [
    "for i in total:\n",
    "    for j in i:\n",
    "        try:\n",
    "            i[i.index(j)] = float(re.sub(',','', j))\n",
    "        except:\n",
    "            pass\n",
    "total        \n"
   ]
  },
  {
   "cell_type": "code",
   "execution_count": null,
   "metadata": {},
   "outputs": [],
   "source": []
  }
 ],
 "metadata": {
  "kernelspec": {
   "display_name": "base",
   "language": "python",
   "name": "python3"
  },
  "language_info": {
   "codemirror_mode": {
    "name": "ipython",
    "version": 3
   },
   "file_extension": ".py",
   "mimetype": "text/x-python",
   "name": "python",
   "nbconvert_exporter": "python",
   "pygments_lexer": "ipython3",
   "version": "3.9.13"
  },
  "orig_nbformat": 4
 },
 "nbformat": 4,
 "nbformat_minor": 2
}
