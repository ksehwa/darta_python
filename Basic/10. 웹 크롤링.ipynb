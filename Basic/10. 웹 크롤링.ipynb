{
 "cells": [
  {
   "cell_type": "code",
   "execution_count": 1,
   "metadata": {},
   "outputs": [],
   "source": [
    "import os, re, usecsv\n",
    "import requests\n",
    "import urllib.request as ur\n",
    "from bs4 import BeautifulSoup as bs"
   ]
  },
  {
   "cell_type": "code",
   "execution_count": 2,
   "metadata": {},
   "outputs": [
    {
     "data": {
      "text/plain": [
       "<http.client.HTTPResponse at 0x147a5fc8040>"
      ]
     },
     "execution_count": 2,
     "metadata": {},
     "output_type": "execute_result"
    }
   ],
   "source": [
    "url = 'https://quotes.toscrape.com/'\n",
    "html = ur.urlopen(url)\n",
    "html"
   ]
  },
  {
   "cell_type": "code",
   "execution_count": 3,
   "metadata": {},
   "outputs": [
    {
     "data": {
      "text/plain": [
       "b'<!DOCTYPE html>\\n<html lang=\"en\">\\n<head>\\n\\t<meta charset=\"UTF-8\">\\n\\t<title>Quotes to Scrape</title>\\n   '"
      ]
     },
     "execution_count": 3,
     "metadata": {},
     "output_type": "execute_result"
    }
   ],
   "source": [
    "html.read()[:100]"
   ]
  },
  {
   "attachments": {},
   "cell_type": "markdown",
   "metadata": {},
   "source": [
    "#### 파싱(parsing)\n",
    "- 웹 문서에서 원하는 패턴이나 순서로 자료를 추출해 가공하는 것"
   ]
  },
  {
   "cell_type": "code",
   "execution_count": 4,
   "metadata": {},
   "outputs": [],
   "source": [
    "html = ur.urlopen(url)\n",
    "soup = bs(html.read(), 'html.parser')"
   ]
  },
  {
   "cell_type": "code",
   "execution_count": 5,
   "metadata": {},
   "outputs": [],
   "source": [
    "soup = bs(ur.urlopen('https://quotes.toscrape.com/').read(),'html.parser')"
   ]
  },
  {
   "attachments": {},
   "cell_type": "markdown",
   "metadata": {},
   "source": [
    "find_all : 특정 태그로 둘러싸인 요소를 찾아내서 리스트 형태로 반환"
   ]
  },
  {
   "cell_type": "code",
   "execution_count": 6,
   "metadata": {},
   "outputs": [
    {
     "data": {
      "text/plain": [
       "<span class=\"text\" itemprop=\"text\">“The world as we have created it is a process of our thinking. It cannot be changed without changing our thinking.”</span>"
      ]
     },
     "execution_count": 6,
     "metadata": {},
     "output_type": "execute_result"
    }
   ],
   "source": [
    "quote = soup.find_all('span')\n",
    "quote[0]"
   ]
  },
  {
   "cell_type": "code",
   "execution_count": 7,
   "metadata": {},
   "outputs": [
    {
     "data": {
      "text/plain": [
       "'“The world as we have created it is a process of our thinking. It cannot be changed without changing our thinking.”'"
      ]
     },
     "execution_count": 7,
     "metadata": {},
     "output_type": "execute_result"
    }
   ],
   "source": [
    "quote[0].text"
   ]
  },
  {
   "cell_type": "code",
   "execution_count": 8,
   "metadata": {},
   "outputs": [],
   "source": [
    "for i in quote:\n",
    "    i.text "
   ]
  },
  {
   "cell_type": "code",
   "execution_count": 9,
   "metadata": {},
   "outputs": [
    {
     "data": {
      "text/plain": [
       "'\\n“The world as we have created it is a process of our thinking. It cannot be changed without changing our thinking.”\\nby Albert Einstein\\n(about)\\n\\n\\n            Tags:\\n            \\nchange\\ndeep-thoughts\\nthinking\\nworld\\n\\n'"
      ]
     },
     "execution_count": 9,
     "metadata": {},
     "output_type": "execute_result"
    }
   ],
   "source": [
    "soup.find_all('div', {\"class\" : \"quote\"})[0].text"
   ]
  },
  {
   "cell_type": "code",
   "execution_count": 10,
   "metadata": {},
   "outputs": [
    {
     "name": "stdout",
     "output_type": "stream",
     "text": [
      "\n",
      "“The world as we have created it is a process of our thinking. It cannot be changed without changing our thinking.”\n",
      "by Albert Einstein\n",
      "(about)\n",
      "\n",
      "\n",
      "            Tags:\n",
      "            \n",
      "change\n",
      "deep-thoughts\n",
      "thinking\n",
      "world\n",
      "\n",
      "\n"
     ]
    }
   ],
   "source": [
    "print(soup.find_all('div', {\"class\" : \"quote\"})[0].text)"
   ]
  },
  {
   "cell_type": "code",
   "execution_count": null,
   "metadata": {},
   "outputs": [],
   "source": [
    "for i in soup.find_all('div', {\"class\":\"quote\"}):\n",
    "    print(i.text)"
   ]
  },
  {
   "attachments": {},
   "cell_type": "markdown",
   "metadata": {},
   "source": [
    "포털 사이트 기사 크롤링"
   ]
  },
  {
   "cell_type": "code",
   "execution_count": 14,
   "metadata": {},
   "outputs": [],
   "source": [
    "import os, re, usecsv\n",
    "import requests\n",
    "import urllib.request as ur\n",
    "from bs4 import BeautifulSoup as bs\n",
    "\n",
    "os.chdir(r'C:\\Users\\kke86\\OneDrive\\바탕 화면\\data_python\\data_python\\Basic')\n",
    "news = 'https://news.daum.net/'\n",
    "soup = bs(ur.urlopen(news).read(), 'html.parser')\n",
    "\n",
    "news_list = []\n",
    "\n",
    "for i in soup.find_all('div', {\"class\" : \"item_issue\"}):\n",
    "    news_list.append(i.text) "
   ]
  },
  {
   "attachments": {},
   "cell_type": "markdown",
   "metadata": {},
   "source": [
    "하이퍼링크 주소 주출"
   ]
  },
  {
   "cell_type": "code",
   "execution_count": 19,
   "metadata": {},
   "outputs": [
    {
     "data": {
      "text/plain": [
       "<a class=\"link_services\" data-tiara-layer=\"enter\" href=\"https://entertain.daum.net\">연예</a>"
      ]
     },
     "execution_count": 19,
     "metadata": {},
     "output_type": "execute_result"
    }
   ],
   "source": [
    "for i in soup.find_all('a')[:5]:\n",
    "    i.get('href')\n",
    "i    "
   ]
  },
  {
   "cell_type": "code",
   "execution_count": 24,
   "metadata": {},
   "outputs": [],
   "source": [
    "news = 'https://news.daum.net/'\n",
    "soup = bs(ur.urlopen(news).read(), 'html.parser')\n",
    "\n",
    "for i in soup.find_all('div', {\"class\" : \"item_issue\"}):\n",
    "    i.find_all('a')[0].get('href')"
   ]
  },
  {
   "cell_type": "code",
   "execution_count": 29,
   "metadata": {},
   "outputs": [
    {
     "name": "stdout",
     "output_type": "stream",
     "text": [
      "경북 3개 시에 강한 비가 쏟아지며 호우주의보가 발효됐다.\n",
      "대구지방기상청은 29일 오후 2시를 기해 경북 상주, 문경, 영주에 호우주의보를 발효했다.\n",
      "호우주의보는 3시간 동안 강수량이 60㎜ 이상, 12시간 동안 110㎜ 이상 예상될 때며 호우경보는 3시간 동안 강수량이 90㎜ 이상, 12시간 동안 180㎜ 이상 예측될 때 발표된다.\n",
      "비는 30일 새벽까지 돌풍과 천둥·번개를 동반, 시간당 30~50㎜의 매우 강하고 많은 비가 내릴 것으로 전망된다.\n",
      "이 글자크기로 변경됩니다.\n",
      "(예시) 가장 빠른 뉴스가 있고 다양한 정보, 쌍방향 소통이 숨쉬는 다음뉴스를 만나보세요. 다음뉴스는 국내외 주요이슈와 실시간 속보, 문화생활 및 다양한 분야의 뉴스를 입체적으로 전달하고 있습니다.\n",
      "\n",
      "[대구=뉴시스] 이상제 기자 = 경북 3개 시에 강한 비가 쏟아지며 호우주의보가 발효됐다.\n",
      "대구지방기상청은 29일 오후 2시를 기해 경북 상주, 문경, 영주에 호우주의보를 발효했다. \n",
      "호우주의보는 3시간 동안 강수량이 60㎜ 이상, 12시간 동안 110㎜ 이상 예상될 때며 호우경보는 3시간 동안 강수량이 90㎜ 이상, 12시간 동안 180㎜ 이상 예측될 때 발표된다.\n",
      "비는 30일 새벽까지 돌풍과 천둥·번개를 동반, 시간당 30~50㎜의 매우 강하고 많은 비가 내릴 것으로 전망된다.\n",
      "예상 강수량은 50~120㎜로, 많은 곳은 150㎜ 이상 내리는 곳도 있을 것으로 보인다.\n",
      "대구기상청 관계자는 \"최근 많은 비가 내린 상황에서 다시 내린 비로 인한 피해가 없도록 각별한 대비가 필요하다\"고 당부했다.\n",
      "☞공감언론 뉴시스 king@newsis.com \n",
      "ⓒ 공감언론 뉴시스통신사. 무단전재-재배포 금지\n",
      " 이 뉴스에 대해 의견을 나눠보세요.  톡방 종료까지 00:00:00 남았습니다. \n"
     ]
    }
   ],
   "source": [
    "article1 = 'https://v.daum.net/v/20230629140413894'\n",
    "soup2 = bs(ur.urlopen(article1).read(), 'html.parser')\n",
    "\n",
    "for i in soup2.find_all('p'):\n",
    "    print(i.text)"
   ]
  },
  {
   "cell_type": "code",
   "execution_count": 44,
   "metadata": {},
   "outputs": [],
   "source": [
    "headline = soup.find_all('div', {\"class\" : \"item_issue\"})\n",
    "\n",
    "for i in headline:\n",
    "    print(i.text, '\\n')"
   ]
  },
  {
   "cell_type": "code",
   "execution_count": 46,
   "metadata": {},
   "outputs": [
    {
     "data": {
      "text/plain": [
       "' 이 뉴스에 대해 의견을 나눠보세요.  톡방 종료까지 00:00:00 남았습니다. '"
      ]
     },
     "execution_count": 46,
     "metadata": {},
     "output_type": "execute_result"
    }
   ],
   "source": [
    "article1 = 'https://v.daum.net/v/20230629140413894'\n",
    "soup = bs(ur.urlopen(article1).read(), 'html.parser')\n",
    "f = open('article_1.text', 'w')\n",
    "\n",
    "for i in soup.find_all('p'):\n",
    "    f.write(i.text)\n"
   ]
  },
  {
   "cell_type": "code",
   "execution_count": null,
   "metadata": {},
   "outputs": [],
   "source": []
  }
 ],
 "metadata": {
  "kernelspec": {
   "display_name": "base",
   "language": "python",
   "name": "python3"
  },
  "language_info": {
   "codemirror_mode": {
    "name": "ipython",
    "version": 3
   },
   "file_extension": ".py",
   "mimetype": "text/x-python",
   "name": "python",
   "nbconvert_exporter": "python",
   "pygments_lexer": "ipython3",
   "version": "3.9.13"
  },
  "orig_nbformat": 4
 },
 "nbformat": 4,
 "nbformat_minor": 2
}
