{
 "cells": [
  {
   "attachments": {},
   "cell_type": "markdown",
   "metadata": {},
   "source": [
    "###  외국이 비율이 3% 넘는 구 정보만 CSV 파일로 저장"
   ]
  },
  {
   "attachments": {},
   "cell_type": "markdown",
   "metadata": {},
   "source": [
    "1)  csv 형 리스트로 바꾸기"
   ]
  },
  {
   "cell_type": "code",
   "execution_count": 5,
   "metadata": {},
   "outputs": [
    {
     "name": "stdout",
     "output_type": "stream",
     "text": [
      "[['Gu', 'Korean', 'Foreigner', 'Senior'], ['Total', 9740398.0, 285529.0, 1468146.0], ['Jongrogu', 151767.0, 11093.0, 27394.0], ['Jongru', 126409.0, 10254.0, 23025.0]]\n"
     ]
    }
   ],
   "source": [
    "import re, os, usecsv\n",
    "os.chdir(r'C:\\Users\\kke86\\OneDrive\\바탕 화면\\data_python\\data_python\\Basic')\n",
    "total = usecsv.opencsv('popSeoul.csv')\n",
    "newPop = usecsv.switch(total)\n",
    "print(newPop[:4])"
   ]
  },
  {
   "attachments": {},
   "cell_type": "markdown",
   "metadata": {},
   "source": [
    "2. 등록 외국인 비율 계산하기"
   ]
  },
  {
   "cell_type": "code",
   "execution_count": 6,
   "metadata": {},
   "outputs": [
    {
     "data": {
      "text/plain": [
       "['Total', 9740398.0, 285529.0, 1468146.0]"
      ]
     },
     "execution_count": 6,
     "metadata": {},
     "output_type": "execute_result"
    }
   ],
   "source": [
    "i = newPop[1]\n",
    "i "
   ]
  },
  {
   "cell_type": "code",
   "execution_count": 7,
   "metadata": {},
   "outputs": [
    {
     "data": {
      "text/plain": [
       "2.847906233508383"
      ]
     },
     "execution_count": 7,
     "metadata": {},
     "output_type": "execute_result"
    }
   ],
   "source": [
    "# 전체 인구 대비 외국인 비율 \n",
    "i[2] / (i[1] + i[2]) * 100"
   ]
  },
  {
   "cell_type": "code",
   "execution_count": 8,
   "metadata": {},
   "outputs": [
    {
     "data": {
      "text/plain": [
       "2.8"
      ]
     },
     "execution_count": 8,
     "metadata": {},
     "output_type": "execute_result"
    }
   ],
   "source": [
    "# 소수점 첫째 자리까지만 foreign 객체에 저장\n",
    "foreign = round(i[2] / (i[1] + i[2]) * 100, 1)\n",
    "foreign"
   ]
  },
  {
   "attachments": {},
   "cell_type": "markdown",
   "metadata": {},
   "source": [
    "3.각 구의 외국인 비율 출력"
   ]
  },
  {
   "cell_type": "code",
   "execution_count": 9,
   "metadata": {},
   "outputs": [
    {
     "name": "stdout",
     "output_type": "stream",
     "text": [
      "Total 2.8\n",
      "Jongrogu 6.8\n",
      "Jongru 7.5\n",
      "Yongsangu 6.6\n",
      "Seongdonggu 2.6\n",
      "Kwangjingu 4.2\n",
      "Dongdaemoongu 4.7\n",
      "Jungranggu 1.2\n",
      "Seongbukgu 2.8\n",
      "Gangbukgu 1.2\n",
      "Dobonggu 0.7\n",
      "Nowonggu 0.8\n",
      "Eunpyonggu 0.9\n",
      "Seodaemungu 4.3\n",
      "Mapogu 3.1\n",
      "Yangcheongu 0.9\n",
      "Gangseogu 1.1\n",
      "Gurogu 7.5\n",
      "Guemcheongu 7.7\n",
      "Youngdeungpogu 8.5\n",
      "Dongjakgu 3.1\n",
      "Kwanakgu 3.4\n",
      "Seoucheogu 1.0\n",
      "Gangnamgu 0.9\n",
      "Songpagu 1.0\n",
      "Gangdonggu 1.0\n"
     ]
    }
   ],
   "source": [
    "for i in newPop:\n",
    "    foreign = 0  \n",
    "    try:\n",
    "        foreign = round(i[2] / (i[1] + i[2]) * 100, 1)\n",
    "        print(i[0], foreign)     # i[0]에는 구 이름이 저장되어 있고, foreign은 공식대로 계산한 외국인 비율\n",
    "    except:\n",
    "        pass   "
   ]
  },
  {
   "attachments": {},
   "cell_type": "markdown",
   "metadata": {},
   "source": [
    "4. 첫 행 지정하기"
   ]
  },
  {
   "cell_type": "code",
   "execution_count": 10,
   "metadata": {},
   "outputs": [
    {
     "data": {
      "text/plain": [
       "[['구', '한국인', '외국인', '외국인 비율(%)'], ['Gangdonggu', 426219.0, 4303.0, 1.0]]"
      ]
     },
     "execution_count": 10,
     "metadata": {},
     "output_type": "execute_result"
    }
   ],
   "source": [
    "new = [['구','한국인','외국인','외국인 비율(%)']]\n",
    "\n",
    "new.append([i[0], i[1], i[2], foreign])\n",
    "new"
   ]
  },
  {
   "attachments": {},
   "cell_type": "markdown",
   "metadata": {},
   "source": [
    "외국인 비율이 3% 초과할 때만 출력"
   ]
  },
  {
   "cell_type": "code",
   "execution_count": 11,
   "metadata": {},
   "outputs": [
    {
     "name": "stdout",
     "output_type": "stream",
     "text": [
      "['Jongrogu', 151767.0, 11093.0, 6.8]\n",
      "['Jongru', 126409.0, 10254.0, 7.5]\n",
      "['Yongsangu', 228830.0, 16159.0, 6.6]\n",
      "['Kwangjingu', 352692.0, 15645.0, 4.2]\n",
      "['Dongdaemoongu', 346551.0, 17228.0, 4.7]\n",
      "['Seodaemungu', 310069.0, 14020.0, 4.3]\n",
      "['Mapogu', 373629.0, 11976.0, 3.1]\n",
      "['Gurogu', 406748.0, 33102.0, 7.5]\n",
      "['Guemcheongu', 233371.0, 19497.0, 7.7]\n",
      "['Youngdeungpogu', 368402.0, 34076.0, 8.5]\n",
      "['Dongjakgu', 397618.0, 12869.0, 3.1]\n",
      "['Kwanakgu', 502117.0, 17836.0, 3.4]\n"
     ]
    }
   ],
   "source": [
    "import re \n",
    "for i in newPop:\n",
    "    foreign = 0\n",
    "    try:\n",
    "        foreign = round(i[2]/ (i[1]+ i[2]) * 100, 1)\n",
    "        if foreign > 3:\n",
    "            print([i[0], i[1], i[2], foreign])\n",
    "    except:\n",
    "        pass\n",
    "\n",
    "    # 각 리스트의 네번째 값은 왹구이 비율이 전부 3보다 큼"
   ]
  },
  {
   "cell_type": "code",
   "execution_count": 12,
   "metadata": {},
   "outputs": [],
   "source": [
    "new = [['구','한국인','외국인','외국인 비율(%)']]\n",
    "for i in newPop:\n",
    "    forign = 0\n",
    "    try:\n",
    "        foreign = round(i[2]/ (i[1]+ i[2]) * 100, 1)\n",
    "        if foreign > 3:\n",
    "            new.append([i[0], i[1], i[2], foreign])\n",
    "    except:\n",
    "        pass\n"
   ]
  },
  {
   "cell_type": "code",
   "execution_count": 13,
   "metadata": {},
   "outputs": [],
   "source": [
    "usecsv.writecsv('newPop.csv', new)"
   ]
  },
  {
   "cell_type": "code",
   "execution_count": null,
   "metadata": {},
   "outputs": [],
   "source": []
  },
  {
   "attachments": {},
   "cell_type": "markdown",
   "metadata": {},
   "source": [
    "166-3번"
   ]
  },
  {
   "cell_type": "code",
   "execution_count": 29,
   "metadata": {},
   "outputs": [
    {
     "data": {
      "text/plain": [
       "['종로구', 151767, 11093, 27394]"
      ]
     },
     "execution_count": 29,
     "metadata": {},
     "output_type": "execute_result"
    }
   ],
   "source": [
    "total = ['종로구','151,767','11,093','27,394']\n",
    "for i in total:\n",
    "    if re.search(',',i):\n",
    "        total[total.index(i)] = int(re.sub(',','',i))\n",
    "total"
   ]
  },
  {
   "attachments": {},
   "cell_type": "markdown",
   "metadata": {},
   "source": [
    "167-4번"
   ]
  },
  {
   "cell_type": "code",
   "execution_count": 33,
   "metadata": {},
   "outputs": [
    {
     "name": "stdout",
     "output_type": "stream",
     "text": [
      "종로구\n",
      "중구\n",
      "용산구\n"
     ]
    }
   ],
   "source": [
    "pop = [['종로구',151767.0],['중구', 126409.0],['용산구',228830.0],['광진구', 346551.0]]\n",
    "for i in pop:\n",
    "    if i[1] < 300000:\n",
    "        print(i[0])\n"
   ]
  },
  {
   "cell_type": "code",
   "execution_count": null,
   "metadata": {},
   "outputs": [],
   "source": []
  }
 ],
 "metadata": {
  "kernelspec": {
   "display_name": "base",
   "language": "python",
   "name": "python3"
  },
  "language_info": {
   "codemirror_mode": {
    "name": "ipython",
    "version": 3
   },
   "file_extension": ".py",
   "mimetype": "text/x-python",
   "name": "python",
   "nbconvert_exporter": "python",
   "pygments_lexer": "ipython3",
   "version": "3.9.13"
  },
  "orig_nbformat": 4
 },
 "nbformat": 4,
 "nbformat_minor": 2
}
