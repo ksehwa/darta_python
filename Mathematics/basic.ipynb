{
 "cells": [
  {
   "attachments": {},
   "cell_type": "markdown",
   "metadata": {},
   "source": [
    "#### 인수분해"
   ]
  },
  {
   "cell_type": "code",
   "execution_count": null,
   "metadata": {},
   "outputs": [],
   "source": [
    "# 파이썬 SymPy의 expand, factor, Symbol을 호출하고 기호변수 x를 선언\n",
    "from sympy import expand, factor, Symbol\n",
    "x = Symbol('x')"
   ]
  },
  {
   "cell_type": "code",
   "execution_count": 3,
   "metadata": {},
   "outputs": [
    {
     "data": {
      "text/latex": [
       "$\\displaystyle x^{2} + 6 x + 5$"
      ],
      "text/plain": [
       "x**2 + 6*x + 5"
      ]
     },
     "execution_count": 3,
     "metadata": {},
     "output_type": "execute_result"
    }
   ],
   "source": [
    "#expand()는 수식을 (x+1) * (x+5)로 전개\n",
    "expand((x+1) * (x+5))"
   ]
  },
  {
   "cell_type": "code",
   "execution_count": 4,
   "metadata": {},
   "outputs": [
    {
     "data": {
      "text/latex": [
       "$\\displaystyle \\left(x + 1\\right) \\left(x + 5\\right)$"
      ],
      "text/plain": [
       "(x + 1)*(x + 5)"
      ]
     },
     "execution_count": 4,
     "metadata": {},
     "output_type": "execute_result"
    }
   ],
   "source": [
    "# factor()는 인수분해하는 함수로 , 2x + 6x + 5를 인수분해\n",
    "factor(x**2 + 6*x + 5)"
   ]
  },
  {
   "cell_type": "code",
   "execution_count": 5,
   "metadata": {},
   "outputs": [
    {
     "data": {
      "text/latex": [
       "$\\displaystyle 3 x^{2} + 2 x + 3$"
      ],
      "text/plain": [
       "3*x**2 + 2*x + 3"
      ]
     },
     "execution_count": 5,
     "metadata": {},
     "output_type": "execute_result"
    }
   ],
   "source": [
    "factor(3*x**2 +2*x +3)"
   ]
  },
  {
   "attachments": {},
   "cell_type": "markdown",
   "metadata": {},
   "source": [
    "### 지수함수"
   ]
  },
  {
   "cell_type": "code",
   "execution_count": 7,
   "metadata": {},
   "outputs": [],
   "source": [
    "# 파이썬 math 라이브러리를 호출\n",
    "import math"
   ]
  },
  {
   "cell_type": "code",
   "execution_count": 8,
   "metadata": {},
   "outputs": [
    {
     "name": "stdout",
     "output_type": "stream",
     "text": [
      "pow 결과 : 32.0\n",
      "sqrt 결과 : 1.4142135623730951\n",
      "exp 결과 : 7.38905609893065\n"
     ]
    }
   ],
   "source": [
    "# 2의 5 제곱\n",
    "pow = math.pow(2,5)\n",
    "print(\"pow 결과 :\", pow)\n",
    "\n",
    "# 2의 제곱근\n",
    "sqrt = math.sqrt(2)\n",
    "print(\"sqrt 결과 :\", sqrt)\n",
    "\n",
    "# e의 2 제곱\n",
    "exp = math.exp(2)\n",
    "print(\"exp 결과 :\", exp)\n"
   ]
  },
  {
   "attachments": {},
   "cell_type": "markdown",
   "metadata": {},
   "source": [
    "### 로그 함수"
   ]
  },
  {
   "cell_type": "code",
   "execution_count": 11,
   "metadata": {},
   "outputs": [
    {
     "data": {
      "text/plain": [
       "2.0"
      ]
     },
     "execution_count": 11,
     "metadata": {},
     "output_type": "execute_result"
    }
   ],
   "source": [
    "import math\n",
    "\n",
    "# log 값을 얻으력 math 라이브러리 log() 함수를 사용\n",
    "math.log(4,2)      # 밑이 4고 진수가 2인 로그 "
   ]
  },
  {
   "cell_type": "code",
   "execution_count": null,
   "metadata": {},
   "outputs": [],
   "source": [
    "+"
   ]
  }
 ],
 "metadata": {
  "kernelspec": {
   "display_name": "base",
   "language": "python",
   "name": "python3"
  },
  "language_info": {
   "codemirror_mode": {
    "name": "ipython",
    "version": 3
   },
   "file_extension": ".py",
   "mimetype": "text/x-python",
   "name": "python",
   "nbconvert_exporter": "python",
   "pygments_lexer": "ipython3",
   "version": "3.9.13"
  },
  "orig_nbformat": 4
 },
 "nbformat": 4,
 "nbformat_minor": 2
}
