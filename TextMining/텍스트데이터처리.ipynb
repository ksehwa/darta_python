{
 "cells": [
  {
   "attachments": {},
   "cell_type": "markdown",
   "metadata": {},
   "source": [
    "### 정규 표현식"
   ]
  },
  {
   "cell_type": "code",
   "execution_count": 1,
   "metadata": {},
   "outputs": [
    {
     "data": {
      "text/plain": [
       "'강경태 한국투자증권 연구원은 주택/건축 부문 올해 2분기 매출액은 전년 동기대비16% 이상 증가했다며2019년 이후 2분기에 달성했던 영업이익 중 가장 좋은 성과를 냈다는 점에서 회사의 저력이 여느 때보다 아쉽다고 밝혔다.GS건설은 검단 자이안단테 외에도 서울시 강남구 개포자이 프레지던스에서 누수 논란이, 경기도 평택시에 위치한 평택지제역자이 지하주차장 물난리 논란이 발생했다.김창현 기자 (hyun15@mt.co.kr)'"
      ]
     },
     "execution_count": 1,
     "metadata": {},
     "output_type": "execute_result"
    }
   ],
   "source": [
    "import re\n",
    "string =  \"강경태 한국투자증권 연구원은 주택/건축 부문 올해 2분기 매출액은 전년 동기대비16% 이상 증가했다며2019년 이후 2분기에 달성했던 영업이익 중 가장 좋은 성과를 냈다는 점에서 회사의 저력이 여느 때보다 아쉽다고 밝혔다.GS건설은 검단 자이안단테 외에도 서울시 강남구 개포자이 프레지던스에서 누수 논란이, 경기도 평택시에 위치한 평택지제역자이 지하주차장 물난리 논란이 발생했다.김창현 기자 (hyun15@mt.co.kr)\"  \n",
    "string"
   ]
  },
  {
   "cell_type": "code",
   "execution_count": 2,
   "metadata": {},
   "outputs": [
    {
     "data": {
      "text/plain": [
       "'강경태 한국투자증권 연구원은 주택/건축 부문 올해 2분기 매출액은 전년 동기대비16% 이상 증가했다며2019년 이후 2분기에 달성했던 영업이익 중 가장 좋은 성과를 냈다는 점에서 회사의 저력이 여느 때보다 아쉽다고 밝혔다.GS건설은 검단 자이안단테 외에도 서울시 강남구 개포자이 프레지던스에서 누수 논란이, 경기도 평택시에 위치한 평택지제역자이 지하주차장 물난리 논란이 발생했다.김창현 기자 '"
      ]
     },
     "execution_count": 2,
     "metadata": {},
     "output_type": "execute_result"
    }
   ],
   "source": [
    "re.sub(\"\\([A-Za-z0-9\\._+]+@[A-Za-z]+\\.(com|org|edu|net|co.kr)\\)\",\"\",string)"
   ]
  },
  {
   "cell_type": "code",
   "execution_count": 3,
   "metadata": {},
   "outputs": [
    {
     "data": {
      "text/plain": [
       "['aaaa', 'aabbb']"
      ]
     },
     "execution_count": 3,
     "metadata": {},
     "output_type": "execute_result"
    }
   ],
   "source": [
    "# a라는 문자가 1번이상 나오고 b라는 문자가 0번이상 나오느 문자열 찾기\n",
    "r=r=re.compile(\"a+b*\")\n",
    "r.findall(\"aaaa, cc, bbbb, aabbb\")"
   ]
  },
  {
   "cell_type": "code",
   "execution_count": 4,
   "metadata": {},
   "outputs": [
    {
     "data": {
      "text/plain": [
       "['HOME']"
      ]
     },
     "execution_count": 4,
     "metadata": {},
     "output_type": "execute_result"
    }
   ],
   "source": [
    "# 대문자로 구성된 문자열 찾기\n",
    "r=r=re.compile(\"[A-Z]+\")\n",
    "r.findall(\"HOME, home\")\n"
   ]
  },
  {
   "cell_type": "code",
   "execution_count": 5,
   "metadata": {},
   "outputs": [
    {
     "data": {
      "text/plain": [
       "['abc']"
      ]
     },
     "execution_count": 5,
     "metadata": {},
     "output_type": "execute_result"
    }
   ],
   "source": [
    "# 맨앞에 a가 오고 그다음에 어떠한 형태는 2개의 문자가 오는 문자열 찾기\n",
    "r=r=re.compile(\"^a..\")\n",
    "r.findall(\"abc,cba\")"
   ]
  },
  {
   "cell_type": "code",
   "execution_count": 6,
   "metadata": {},
   "outputs": [
    {
     "data": {
      "text/plain": [
       "['aabb', 'aaabb']"
      ]
     },
     "execution_count": 6,
     "metadata": {},
     "output_type": "execute_result"
    }
   ],
   "source": [
    "# 해당 문자열이 m번이상 n번 이하 나타나는 패턴 ({m,n})\n",
    "r=r=re.compile(\"a{2,3}b{2,3}\")\n",
    "r.findall(\"aabb,aaabb, ab, aab\")"
   ]
  },
  {
   "cell_type": "code",
   "execution_count": 7,
   "metadata": {},
   "outputs": [
    {
     "data": {
      "text/plain": [
       "'http:'"
      ]
     },
     "execution_count": 7,
     "metadata": {},
     "output_type": "execute_result"
    }
   ],
   "source": [
    "# com;ile 메서드에 패턴을 지정한 후 searxh메서드에 문자열을 넣고 지정된 패턴고 일치하는 문자열을 group메서드를 통해서 그룹핑하여 추출\n",
    "p = re.compile(\".+:\")\n",
    "m = p.search(\"http://google.com\")\n",
    "m.group()"
   ]
  },
  {
   "cell_type": "code",
   "execution_count": 8,
   "metadata": {},
   "outputs": [
    {
     "data": {
      "text/plain": [
       "'그의 물건에 손대지 마시오.'"
      ]
     },
     "execution_count": 8,
     "metadata": {},
     "output_type": "execute_result"
    }
   ],
   "source": [
    "# 정규표현식과 일치하는 부분 삭제\n",
    "# 정규표현식 지정 후 sub메서드 첫 번째 인수에 바꿀 문장 입력, 두 번째 인수에 대상 문자열 입력\n",
    "p = re.compile(\"(내|나의|내꺼)\")\n",
    "p.sub(\"그의\", \"나의 물건에 손대지 마시오.\")"
   ]
  },
  {
   "attachments": {},
   "cell_type": "markdown",
   "metadata": {},
   "source": [
    "### 사전처리"
   ]
  },
  {
   "cell_type": "code",
   "execution_count": 9,
   "metadata": {},
   "outputs": [
    {
     "data": {
      "text/plain": [
       "'서울 부동산 가격이 올해 들어 평균 %상승했습니다.'"
      ]
     },
     "execution_count": 9,
     "metadata": {},
     "output_type": "execute_result"
    }
   ],
   "source": [
    "# 숫자 제거\n",
    "p = re.compile(\"[0-9]+\")\n",
    "p.sub(\"\",\"서울 부동산 가격이 올해 들어 평균 30%상승했습니다.\")"
   ]
  },
  {
   "cell_type": "code",
   "execution_count": 10,
   "metadata": {},
   "outputs": [
    {
     "data": {
      "text/plain": [
       "' 서울 부동산 가격이 올해 들어 평균 30 상승했습니다 '"
      ]
     },
     "execution_count": 10,
     "metadata": {},
     "output_type": "execute_result"
    }
   ],
   "source": [
    "# 문장 부호 제거 \n",
    "p = re.compile(\"\\W+\")\n",
    "p.sub(\" \",\"!!서울 부동산 가격이 올해 들어 평균 30%상승했습니다.\")"
   ]
  },
  {
   "cell_type": "code",
   "execution_count": 11,
   "metadata": {},
   "outputs": [
    {
     "data": {
      "text/plain": [
       "'주제_1건강한몸과건강한정신'"
      ]
     },
     "execution_count": 11,
     "metadata": {},
     "output_type": "execute_result"
    }
   ],
   "source": [
    "p = re.compile(\"\\W+\")\n",
    "s = p.sub(\"\",\"주제_1: 건강한 몸과 건강한 정신!\")\n",
    "s"
   ]
  },
  {
   "cell_type": "code",
   "execution_count": 12,
   "metadata": {},
   "outputs": [
    {
     "data": {
      "text/plain": [
       "'주제 1건강한몸과건강한정신'"
      ]
     },
     "execution_count": 12,
     "metadata": {},
     "output_type": "execute_result"
    }
   ],
   "source": [
    "p = re.compile(\"_\")\n",
    "p.sub(\" \",s)"
   ]
  },
  {
   "attachments": {},
   "cell_type": "markdown",
   "metadata": {},
   "source": [
    "불용어 제거"
   ]
  },
  {
   "cell_type": "code",
   "execution_count": 13,
   "metadata": {},
   "outputs": [
    {
     "data": {
      "text/plain": [
       "['추석', '연휴', '민족', '대이동', '시작', '교통량', '교통사고', '자동차', '고장', '상당수', '차지']"
      ]
     },
     "execution_count": 13,
     "metadata": {},
     "output_type": "execute_result"
    }
   ],
   "source": [
    "word_korean = [\"추석\",\"연휴\",\"민족\",'대이동','시작',\"늘어\",\"교통량\",\"교통사고\",\"자동차\",\"고장\",\"상당수\",\"차지\",\"나타\",\"것\",\"기자\"]\n",
    "stopwords = ['가다','늘어','나타','것','기자']\n",
    "[i for i in word_korean if i not in stopwords]"
   ]
  },
  {
   "cell_type": "code",
   "execution_count": null,
   "metadata": {},
   "outputs": [],
   "source": []
  }
 ],
 "metadata": {
  "kernelspec": {
   "display_name": "Python 3",
   "language": "python",
   "name": "python3"
  },
  "language_info": {
   "codemirror_mode": {
    "name": "ipython",
    "version": 3
   },
   "file_extension": ".py",
   "mimetype": "text/x-python",
   "name": "python",
   "nbconvert_exporter": "python",
   "pygments_lexer": "ipython3",
   "version": "3.11.4"
  },
  "orig_nbformat": 4
 },
 "nbformat": 4,
 "nbformat_minor": 2
}
