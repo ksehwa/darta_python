{
 "cells": [
  {
   "attachments": {},
   "cell_type": "markdown",
   "metadata": {},
   "source": [
    "## 의사 결정 나무(Decision Tree)\n",
    "- 분류와 회귀에 사용되는 지도 학습 방법\n",
    "- 데이터 특성으로 부터 추론된 결정 규칙을 통해 값을 예측\n",
    "- 트리의 깊이가 깊을수록 복잡한 모델\n",
    "  - 장점\n",
    "      - 이해와 해석이 쉬움\n",
    "      - 시각화 용이\n",
    "      - 수치형과 범주형 데이터를 모두 다룰 수 있음\n",
    "      - 많은 데이터 전처리가 필요없음"
   ]
  },
  {
   "cell_type": "code",
   "execution_count": null,
   "metadata": {},
   "outputs": [],
   "source": []
  }
 ],
 "metadata": {
  "kernelspec": {
   "display_name": "base",
   "language": "python",
   "name": "python3"
  },
  "language_info": {
   "codemirror_mode": {
    "name": "ipython",
    "version": 3
   },
   "file_extension": ".py",
   "mimetype": "text/x-python",
   "name": "python",
   "nbconvert_exporter": "python",
   "pygments_lexer": "ipython3",
   "version": "3.9.13"
  },
  "orig_nbformat": 4
 },
 "nbformat": 4,
 "nbformat_minor": 2
}
